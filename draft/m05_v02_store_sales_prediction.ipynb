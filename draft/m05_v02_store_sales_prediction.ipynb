{
 "cells": [
  {
   "cell_type": "markdown",
   "id": "57f2688e",
   "metadata": {},
   "source": [
    "# 0.0. Step 0 - Imports"
   ]
  },
  {
   "cell_type": "code",
   "execution_count": null,
   "id": "0bcd8368",
   "metadata": {
    "ExecuteTime": {
     "start_time": "2022-03-01T21:22:49.506Z"
    }
   },
   "outputs": [],
   "source": [
    "import math\n",
    "import numpy as np\n",
    "import pandas as pd\n",
    "import inflection\n",
    "import seaborn as sns\n",
    "\n",
    "from scipy                 import stats as ss\n",
    "from numpy                 import int64\n",
    "from matplotlib            import pyplot as plt\n",
    "from IPython.display       import Image\n",
    "from IPython.core.display  import HTML\n",
    "from tabulate              import tabulate\n",
    "from sklearn.preprocessing import RobustScaler, MinMaxScaler"
   ]
  },
  {
   "cell_type": "markdown",
   "id": "267ca0c6",
   "metadata": {},
   "source": [
    "## 0.1. Helper Functions "
   ]
  },
  {
   "cell_type": "code",
   "execution_count": null,
   "id": "928b09bb",
   "metadata": {
    "ExecuteTime": {
     "start_time": "2022-03-01T21:22:49.510Z"
    }
   },
   "outputs": [],
   "source": [
    "def jupyter_settings():\n",
    "    %matplotlib inline\n",
    "    %pylab inline\n",
    "    \n",
    "    plt.style.use('bmh')\n",
    "    plt.rcParams['figure.figsize'] = [20, 12]\n",
    "    plt.rcParams['font.size'] = 25\n",
    "    \n",
    "    display(HTML( '<style>.container {width:100% !important;}</style>'))\n",
    "   #pd.options.display.max_columns = None\n",
    "   #pd.options.display.max_rows = None\n",
    "   #pd.set_option('display.expand_frame_repr', False)\n",
    "            \n",
    "    sns.set() "
   ]
  },
  {
   "cell_type": "code",
   "execution_count": null,
   "id": "6d1eb951",
   "metadata": {
    "ExecuteTime": {
     "start_time": "2022-03-01T21:22:49.512Z"
    }
   },
   "outputs": [],
   "source": [
    "jupyter_settings ()"
   ]
  },
  {
   "cell_type": "markdown",
   "id": "db5fb6e9",
   "metadata": {},
   "source": [
    "## 0.2. Loading Data"
   ]
  },
  {
   "cell_type": "markdown",
   "id": "714460e2",
   "metadata": {},
   "source": [
    "# 1.0. Step 1 - Descrição dos Dados"
   ]
  },
  {
   "cell_type": "markdown",
   "id": "9992b7a5",
   "metadata": {
    "heading_collapsed": true
   },
   "source": [
    "## 1.1. Data"
   ]
  },
  {
   "cell_type": "code",
   "execution_count": null,
   "id": "a384f46a",
   "metadata": {
    "ExecuteTime": {
     "start_time": "2022-03-01T21:22:49.517Z"
    },
    "hidden": true
   },
   "outputs": [],
   "source": [
    "df_sales_raw = pd.read_csv ('data/train.csv', low_memory = False)\n",
    "df_store_raw = pd.read_csv ('data/store.csv', low_memory = False)\n",
    "\n",
    "#merge\n",
    "df_raw = pd.merge (df_sales_raw, df_store_raw, how='left', on='Store')"
   ]
  },
  {
   "cell_type": "code",
   "execution_count": null,
   "id": "6b993479",
   "metadata": {
    "ExecuteTime": {
     "start_time": "2022-03-01T21:22:49.519Z"
    },
    "hidden": true
   },
   "outputs": [],
   "source": [
    "df1 = df_raw.copy()"
   ]
  },
  {
   "cell_type": "markdown",
   "id": "d01d6da5",
   "metadata": {
    "heading_collapsed": true
   },
   "source": [
    "## 1.2. Rename Columns"
   ]
  },
  {
   "cell_type": "code",
   "execution_count": null,
   "id": "9b34f45a",
   "metadata": {
    "ExecuteTime": {
     "start_time": "2022-03-01T21:22:49.523Z"
    },
    "hidden": true
   },
   "outputs": [],
   "source": [
    "cols_old = ['Store', 'DayOfWeek', 'Date', 'Sales', 'Customers', 'Open', 'Promo','StateHoliday', 'SchoolHoliday',\n",
    "            'StoreType', 'Assortment', 'CompetitionDistance', 'CompetitionOpenSinceMonth','CompetitionOpenSinceYear',\n",
    "            'Promo2', 'Promo2SinceWeek','Promo2SinceYear', 'PromoInterval']\n",
    "\n",
    "snakecase = lambda x: inflection.underscore(x)\n",
    "cols_new = list(map(snakecase, cols_old))\n",
    "\n",
    "#rename\n",
    "df1.columns = cols_new"
   ]
  },
  {
   "cell_type": "markdown",
   "id": "357f868c",
   "metadata": {
    "heading_collapsed": true
   },
   "source": [
    "## 1.3. Data Dimensions"
   ]
  },
  {
   "cell_type": "code",
   "execution_count": null,
   "id": "558b395d",
   "metadata": {
    "ExecuteTime": {
     "start_time": "2022-03-01T21:22:49.525Z"
    },
    "hidden": true
   },
   "outputs": [],
   "source": [
    "print('Number of Rows {}'.format(df1.shape[0]))\n",
    "print('Number od Columns {}'.format(df1.shape[1]))"
   ]
  },
  {
   "cell_type": "markdown",
   "id": "dce4a681",
   "metadata": {
    "heading_collapsed": true
   },
   "source": [
    "## 1.4. Data Types"
   ]
  },
  {
   "cell_type": "code",
   "execution_count": null,
   "id": "742bfb00",
   "metadata": {
    "ExecuteTime": {
     "start_time": "2022-03-01T21:22:49.529Z"
    },
    "hidden": true
   },
   "outputs": [],
   "source": [
    "df1['date'] = pd.to_datetime(df1['date'])\n",
    "df1.dtypes"
   ]
  },
  {
   "cell_type": "markdown",
   "id": "46593fac",
   "metadata": {
    "heading_collapsed": true
   },
   "source": [
    "## 1.5. Check NA"
   ]
  },
  {
   "cell_type": "code",
   "execution_count": null,
   "id": "ab035ba5",
   "metadata": {
    "ExecuteTime": {
     "start_time": "2022-03-01T21:22:49.532Z"
    },
    "hidden": true
   },
   "outputs": [],
   "source": [
    "df1.isna().sum()"
   ]
  },
  {
   "cell_type": "markdown",
   "id": "b326cb7a",
   "metadata": {
    "heading_collapsed": true
   },
   "source": [
    "## 1.6. Fillout NA"
   ]
  },
  {
   "cell_type": "code",
   "execution_count": null,
   "id": "f33bc8ea",
   "metadata": {
    "ExecuteTime": {
     "start_time": "2022-03-01T21:22:49.536Z"
    },
    "hidden": true
   },
   "outputs": [],
   "source": [
    "#competition_distance \n",
    "df1['competition_distance'] = df1['competition_distance'].apply(lambda x: 2000000.0 if math.isnan (x) else (x))\n",
    "\n",
    "#competition_open_since_month  \n",
    "df1['competition_open_since_month'] = df1.apply(lambda x: x['date'].month if math.isnan(x['competition_open_since_month']) else x['competition_open_since_month'], axis=1)\n",
    "\n",
    "#competition_open_since_year    \n",
    "df1['competition_open_since_year'] = df1.apply(lambda x: x['date'].year if math.isnan(x['competition_open_since_year']) else x['competition_open_since_year'], axis=1 )\n",
    "\n",
    "#promo2_since_week              \n",
    "df1['promo2_since_week'] = df1.apply(lambda x: x['date'].week if math.isnan(x['promo2_since_week']) else x['promo2_since_week'], axis=1 )\n",
    "\n",
    "#promo2_since_year \n",
    "df1['promo2_since_year'] = df1.apply(lambda x: x['date'].year if math.isnan(x['promo2_since_year']) else x['promo2_since_year'], axis=1 )\n",
    "\n",
    "#promo_interval\n",
    "month_map = {1:'Jan', 2:'Feb', 3:'Mar', 4:'Apr', 5:'May', 6:'Jun', 7:'Jul', 8:'Aug', 9:'Sep', 10:'Oct', 11:'Nov', 12:'Dec'}\n",
    "df1['promo_interval'].fillna(0, inplace=True)\n",
    "df1['month_map'] = df1['date'].dt.month.map(month_map)\n",
    "df1['is_promo'] = df1[['promo_interval', 'month_map' ]].apply(lambda x: 0 if x['promo_interval'] == 0 else 1 if x['month_map'] in x['promo_interval'].split( ',') else 0, axis=1)\n"
   ]
  },
  {
   "cell_type": "markdown",
   "id": "3f9e59df",
   "metadata": {
    "heading_collapsed": true
   },
   "source": [
    "## 1.7. Change Types"
   ]
  },
  {
   "cell_type": "code",
   "execution_count": null,
   "id": "c7913fa1",
   "metadata": {
    "ExecuteTime": {
     "start_time": "2022-03-01T21:22:49.539Z"
    },
    "hidden": true
   },
   "outputs": [],
   "source": [
    "df1['competition_open_since_month'] = df1['competition_open_since_month'].astype(int64)\n",
    "df1['competition_open_since_year'] = df1['competition_open_since_year'].astype(int64)\n",
    "df1['promo2_since_week'] = df1['promo2_since_week'].astype(int64)\n",
    "df1['promo2_since_year'] = df1['promo2_since_year'].astype(int64)"
   ]
  },
  {
   "cell_type": "markdown",
   "id": "c235681d",
   "metadata": {},
   "source": [
    "## 1.8. Descriptive Statistical"
   ]
  },
  {
   "cell_type": "markdown",
   "id": "937e5ebf",
   "metadata": {
    "heading_collapsed": true
   },
   "source": [
    "### 1.7.1. Split data in numerical and categorical attributes"
   ]
  },
  {
   "cell_type": "code",
   "execution_count": null,
   "id": "0837cf02",
   "metadata": {
    "ExecuteTime": {
     "start_time": "2022-03-01T21:22:49.542Z"
    },
    "hidden": true
   },
   "outputs": [],
   "source": [
    "num_attributes = df1.select_dtypes(include=['int64', 'float64'])\n",
    "cat_attributes = df1.select_dtypes(exclude=['int64', 'float64','datetime64[ns]'])"
   ]
  },
  {
   "cell_type": "markdown",
   "id": "cc99f0a2",
   "metadata": {
    "heading_collapsed": true
   },
   "source": [
    "### 1.7.2 Numerical Attributes"
   ]
  },
  {
   "cell_type": "code",
   "execution_count": null,
   "id": "6928e635",
   "metadata": {
    "ExecuteTime": {
     "start_time": "2022-03-01T21:22:49.545Z"
    },
    "hidden": true
   },
   "outputs": [],
   "source": [
    "# central tendency - mean, median\n",
    "ct1 = pd.DataFrame(num_attributes.apply(np.mean)).T\n",
    "ct2 = pd.DataFrame(num_attributes.apply(np.median)).T\n",
    "\n",
    "# dispersion - std, min, max, range, skew, Kurtosis\n",
    "d1 = pd.DataFrame(num_attributes.apply(np.std)).T\n",
    "d2 = pd.DataFrame(num_attributes.apply(min)).T\n",
    "d3 = pd.DataFrame(num_attributes.apply(max)).T\n",
    "d4 = pd.DataFrame(num_attributes.apply(lambda x: x.max() - x.min())).T\n",
    "d5 = pd.DataFrame(num_attributes.apply(lambda x: x.skew())).T\n",
    "d6 = pd.DataFrame(num_attributes.apply(lambda x: x.kurtosis())).T\n",
    "\n",
    "#concatenate\n",
    "m = pd.concat([d2, d3, d4, ct1, ct2, d1, d5, d6]).T.reset_index()\n",
    "m.columns = ['attributes', 'min', 'max', 'range', 'mean', 'median', 'std', 'skew', 'kurtosis']\n",
    "m"
   ]
  },
  {
   "cell_type": "code",
   "execution_count": null,
   "id": "27f8bc74",
   "metadata": {
    "ExecuteTime": {
     "start_time": "2022-03-01T21:22:49.548Z"
    },
    "hidden": true
   },
   "outputs": [],
   "source": [
    "sns.kdeplot(df1['sales']);"
   ]
  },
  {
   "cell_type": "markdown",
   "id": "c3427405",
   "metadata": {},
   "source": [
    "### 1.7.3 Categorical Attributes"
   ]
  },
  {
   "cell_type": "code",
   "execution_count": null,
   "id": "c90f3bdc",
   "metadata": {
    "ExecuteTime": {
     "start_time": "2022-03-01T21:22:49.551Z"
    }
   },
   "outputs": [],
   "source": [
    "cat_attributes.apply(lambda x: x.unique().shape[0] )"
   ]
  },
  {
   "cell_type": "code",
   "execution_count": null,
   "id": "674b9afc",
   "metadata": {
    "ExecuteTime": {
     "start_time": "2022-03-01T21:22:49.553Z"
    }
   },
   "outputs": [],
   "source": [
    "aux1 = df1[(df1['state_holiday'] != '0') & (df1['sales'] > 0)]\n",
    "aux2 = df1[df1['sales'] > 0]\n",
    "\n",
    "plt.subplot(131)\n",
    "sns.boxplot(x='state_holiday', y='sales', data=aux1);\n",
    "\n",
    "plt.subplot(132)\n",
    "sns.boxplot(x='store_type', y='sales', data=aux2);\n",
    "\n",
    "plt.subplot(133)\n",
    "sns.boxplot(x='assortment', y='sales', data=aux2);"
   ]
  },
  {
   "cell_type": "markdown",
   "id": "514b399d",
   "metadata": {},
   "source": [
    "# 2.0. Step 2 - Feature Engineering"
   ]
  },
  {
   "cell_type": "markdown",
   "id": "952d1c4b",
   "metadata": {
    "heading_collapsed": true
   },
   "source": [
    "### 2.1. Data"
   ]
  },
  {
   "cell_type": "code",
   "execution_count": null,
   "id": "da678bf1",
   "metadata": {
    "ExecuteTime": {
     "start_time": "2022-03-01T21:22:49.557Z"
    },
    "hidden": true
   },
   "outputs": [],
   "source": [
    "df2 = df1"
   ]
  },
  {
   "cell_type": "markdown",
   "id": "6912976a",
   "metadata": {
    "heading_collapsed": true
   },
   "source": [
    "### 2.2. Mind Map Hypothesis"
   ]
  },
  {
   "cell_type": "code",
   "execution_count": null,
   "id": "5339e7fd",
   "metadata": {
    "ExecuteTime": {
     "start_time": "2022-03-01T21:22:49.560Z"
    },
    "hidden": true
   },
   "outputs": [],
   "source": [
    "Image('img/MindMapHypothesis.png')"
   ]
  },
  {
   "cell_type": "markdown",
   "id": "17eaf04d",
   "metadata": {
    "heading_collapsed": true
   },
   "source": [
    "### 2.3. Create Hypothesis"
   ]
  },
  {
   "cell_type": "markdown",
   "id": "107d8103",
   "metadata": {
    "heading_collapsed": true,
    "hidden": true
   },
   "source": [
    "#### 2.3.1. Store Hypothesis"
   ]
  },
  {
   "cell_type": "markdown",
   "id": "a8bceb44",
   "metadata": {
    "ExecuteTime": {
     "end_time": "2021-10-28T13:59:15.770679Z",
     "start_time": "2021-10-28T13:59:15.762696Z"
    },
    "hidden": true
   },
   "source": [
    "1.Lojas com número maior de funcionários deveriam vender mais.\n",
    "\n",
    "2.Lojas com maior capacidade de estoque deveriam vender mais.\n",
    "\n",
    "3.Lojas com maior porte deveriam vender mais.\n",
    "\n",
    "4.Lojas com maior sortimentos deveriam vender mais.\n",
    "\n",
    "5.Lojas com competidores mais próximos deveriam vender menos.\n",
    "\n",
    "6.Lojas com competidores à mais tempo deveriam vendem mais."
   ]
  },
  {
   "cell_type": "markdown",
   "id": "e8b4f351",
   "metadata": {
    "heading_collapsed": true,
    "hidden": true
   },
   "source": [
    "#### 2.3.2. Product Hypothesis"
   ]
  },
  {
   "cell_type": "markdown",
   "id": "7a840012",
   "metadata": {
    "ExecuteTime": {
     "end_time": "2021-10-28T14:00:04.080368Z",
     "start_time": "2021-10-28T14:00:04.071391Z"
    },
    "hidden": true
   },
   "source": [
    "**1**.Lojas que investem mais em Marketing deveriam vender mais.\n",
    "\n",
    "**2**.Lojas com maior exposição de produto deveriam vender mais.\n",
    "\n",
    "**3**.Lojas com produtos com preço menor deveriam vender mais.\n",
    "\n",
    "**5**.Lojas com promoções mais agressivas ( descontos maiores ), deveriam vender mais.\n",
    "\n",
    "**6**.Lojas com promoções ativas por mais tempo deveriam vender mais.\n",
    "\n",
    "**7**.Lojas com mais dias de promoção deveriam vender mais.\n",
    "\n",
    "**8**.Lojas com mais promoções consecutivas deveriam vender mais."
   ]
  },
  {
   "cell_type": "markdown",
   "id": "4718404b",
   "metadata": {
    "heading_collapsed": true,
    "hidden": true
   },
   "source": [
    "#### 2.3.3. Time Hypothesis (seasonality)"
   ]
  },
  {
   "cell_type": "markdown",
   "id": "6abb29ac",
   "metadata": {
    "hidden": true
   },
   "source": [
    "**1**.Lojas abertas durante o feriado de Natal deveriam vender mais.\n",
    "\n",
    "**2**.Lojas deveriam vender mais ao longo dos anos.\n",
    "\n",
    "**3**.Lojas deveriam vender mais no segundo semestre do ano.\n",
    "\n",
    "**4**.Lojas deveriam vender mais depois do dia 10 de cada mês.\n",
    "\n",
    "**5**.Lojas deveriam vender menos aos finais de semana.\n",
    "\n",
    "**6**.Lojas deveriam vender menos durante os feriados escolares."
   ]
  },
  {
   "cell_type": "markdown",
   "id": "932ae022",
   "metadata": {
    "heading_collapsed": true
   },
   "source": [
    "### 2.4. Final List Hypothesis"
   ]
  },
  {
   "cell_type": "markdown",
   "id": "542eefd8",
   "metadata": {
    "hidden": true
   },
   "source": [
    "**1**.Lojas com maior sortimentos deveriam vender mais.\n",
    "\n",
    "**2**.Lojas com competidores mais próximos deveriam vender menos.\n",
    "\n",
    "**3**.Lojas com competidores à mais tempo deveriam vendem mais.\n",
    "\n",
    "**4**.Lojas com promoções ativas por mais tempo deveriam vender mais.\n",
    "\n",
    "**5**.Lojas com mais dias de promoção deveriam vender mais.\n",
    "\n",
    "**6**.Lojas com mais promoções consecutivas deveriam vender mais.\n",
    "\n",
    "**7**.Lojas abertas durante o feriado de Natal deveriam vender mais.\n",
    "\n",
    "**8**.Lojas deveriam vender mais ao longo dos anos.\n",
    "\n",
    "**9**.Lojas deveriam vender mais no segundo semestre do ano.\n",
    "\n",
    "**10**.Lojas deveriam vender mais depois do dia 10 de cada mês.\n",
    "\n",
    "**11**.Lojas deveriam vender menos aos finais de semana.\n",
    "\n",
    "**12**.Lojas deveriam vender menos durante os feriados escolares."
   ]
  },
  {
   "cell_type": "markdown",
   "id": "9ec3a887",
   "metadata": {
    "heading_collapsed": true
   },
   "source": [
    "### 2.3 Feature Engineering"
   ]
  },
  {
   "cell_type": "code",
   "execution_count": null,
   "id": "8966e158",
   "metadata": {
    "ExecuteTime": {
     "start_time": "2022-03-01T21:22:49.569Z"
    },
    "hidden": true
   },
   "outputs": [],
   "source": [
    "# year\n",
    "df2['year'] = df2['date'].dt.year\n",
    "\n",
    "# month\n",
    "df2['month'] = df2['date'].dt.month\n",
    "\n",
    "# day\n",
    "df2['day'] = df2['date'].dt.day\n",
    "\n",
    "# week of year\n",
    "df2['week_of_year'] = df2['date'].dt.isocalendar().week.astype(int64)\n",
    "\n",
    "# year of week\n",
    "df2['year_of_week'] = df2['date'].dt.strftime('%Y-%W')\n",
    "\n",
    "# competition since\n",
    "df2['competition_since'] = df2.apply( lambda x: datetime.datetime(year=x['competition_open_since_year'], month=x['competition_open_since_month'], day=1), axis=1)\n",
    "df2['competition_time_month'] = ((df2['date'] - df2['competition_since'])/30).apply(lambda x: x.days).astype(int64)\n",
    "\n",
    "# promo since\n",
    "df2['promo_since'] = df2['promo2_since_year'].astype(str) + '-' + df2['promo2_since_week'].astype(str)\n",
    "df2['promo_since'] = df2 ['promo_since'].apply(lambda x: datetime.datetime.strptime(x + '-1', '%Y-%W-%w') - datetime.timedelta(days=7))\n",
    "df2['promo_time_week'] = ((df2['date'] - df2['promo_since'])/7).apply(lambda x : x.days).astype(int64)\n",
    "\n",
    "# assortment\n",
    "df2['assortment'] = df2['assortment'].apply(lambda x: 'basic' if x == 'a' else 'extra' if x == 'b' else 'extended')\n",
    "\n",
    "# state holiday\n",
    "df2['state_holiday'] = df2['state_holiday'].apply(lambda x: 'public_holiday' if x == 'a' else 'easter_holiday' if x == 'b' else 'christmas' if x == 'c' else 'regular_day')\n"
   ]
  },
  {
   "cell_type": "markdown",
   "id": "d4debb54",
   "metadata": {},
   "source": [
    "# 3.0. Step 3 - Feature Filtering"
   ]
  },
  {
   "cell_type": "markdown",
   "id": "954d2983",
   "metadata": {
    "heading_collapsed": true
   },
   "source": [
    "## 3.1. Data"
   ]
  },
  {
   "cell_type": "code",
   "execution_count": null,
   "id": "13a7b9ee",
   "metadata": {
    "ExecuteTime": {
     "start_time": "2022-03-01T21:22:49.572Z"
    },
    "hidden": true
   },
   "outputs": [],
   "source": [
    "df3 = df2"
   ]
  },
  {
   "cell_type": "markdown",
   "id": "efbb7c82",
   "metadata": {
    "heading_collapsed": true
   },
   "source": [
    "## 3.2. Filtering Rowns"
   ]
  },
  {
   "cell_type": "code",
   "execution_count": null,
   "id": "0d081fe3",
   "metadata": {
    "ExecuteTime": {
     "start_time": "2022-03-01T21:22:49.576Z"
    },
    "hidden": true
   },
   "outputs": [],
   "source": [
    "df3 = df3[(df3['open'] !=0) & (df3['sales'] > 0)]"
   ]
  },
  {
   "cell_type": "markdown",
   "id": "41f1c852",
   "metadata": {
    "heading_collapsed": true
   },
   "source": [
    "## 3.3. Filtering Columns"
   ]
  },
  {
   "cell_type": "code",
   "execution_count": null,
   "id": "5d3bf174",
   "metadata": {
    "ExecuteTime": {
     "start_time": "2022-03-01T21:22:49.579Z"
    },
    "hidden": true
   },
   "outputs": [],
   "source": [
    "cols_drop =['customers', 'open', 'promo_interval', 'month_map']\n",
    "df3 = df3.drop(cols_drop, axis=1)"
   ]
  },
  {
   "cell_type": "markdown",
   "id": "f9ad7a78",
   "metadata": {},
   "source": [
    "# 4.0. Step 4 - Exploratory Data Analysis"
   ]
  },
  {
   "cell_type": "markdown",
   "id": "8387eb7a",
   "metadata": {
    "heading_collapsed": true
   },
   "source": [
    "## 4.1. Data"
   ]
  },
  {
   "cell_type": "code",
   "execution_count": null,
   "id": "cb042293",
   "metadata": {
    "ExecuteTime": {
     "start_time": "2022-03-01T21:22:49.582Z"
    },
    "hidden": true
   },
   "outputs": [],
   "source": [
    "df4 = df3"
   ]
  },
  {
   "cell_type": "markdown",
   "id": "73471f8f",
   "metadata": {},
   "source": [
    "## 4.2. Análise Univariada"
   ]
  },
  {
   "cell_type": "markdown",
   "id": "b32817b1",
   "metadata": {},
   "source": [
    "### 4.2.1. Response Variable"
   ]
  },
  {
   "cell_type": "code",
   "execution_count": null,
   "id": "4685fa27",
   "metadata": {
    "ExecuteTime": {
     "start_time": "2022-03-01T21:22:49.586Z"
    }
   },
   "outputs": [],
   "source": [
    "sns.distplot(df4['sales']);"
   ]
  },
  {
   "cell_type": "markdown",
   "id": "6f26f48b",
   "metadata": {
    "heading_collapsed": true
   },
   "source": [
    "### 4.1.2 Numerical Variable"
   ]
  },
  {
   "cell_type": "code",
   "execution_count": null,
   "id": "b38c2f86",
   "metadata": {
    "ExecuteTime": {
     "start_time": "2022-03-01T21:22:49.589Z"
    },
    "hidden": true
   },
   "outputs": [],
   "source": [
    "num_attributes.hist(bins=25);"
   ]
  },
  {
   "cell_type": "markdown",
   "id": "d0739938",
   "metadata": {
    "heading_collapsed": true
   },
   "source": [
    "### 4.1.3. Categorical Variable"
   ]
  },
  {
   "cell_type": "code",
   "execution_count": null,
   "id": "813bdf51",
   "metadata": {
    "ExecuteTime": {
     "start_time": "2022-03-01T21:22:49.592Z"
    },
    "hidden": true
   },
   "outputs": [],
   "source": [
    "df4['store_type'].drop_duplicates().head()"
   ]
  },
  {
   "cell_type": "code",
   "execution_count": null,
   "id": "43cf6c7f",
   "metadata": {
    "ExecuteTime": {
     "start_time": "2022-03-01T21:22:49.594Z"
    },
    "code_folding": [],
    "hidden": true,
    "hide_input": false
   },
   "outputs": [],
   "source": [
    "#state Holiday\n",
    "plt.subplot(321)\n",
    "a = df4[(df4['state_holiday'] != 'regular_day')]\n",
    "sns.countplot(x=\"state_holiday\", data=a);\n",
    "\n",
    "plt.subplot(322)\n",
    "sns.kdeplot(data=a, x='sales', hue='state_holiday', shade='True');\n",
    "\n",
    "#Store Type\n",
    "plt.subplot(323)\n",
    "sns.countplot(x='store_type', data=df4);\n",
    "\n",
    "plt.subplot(324)\n",
    "sns.kdeplot(data=a, x='sales', hue='store_type', shade='True');\n",
    "\n",
    "#assortment\n",
    "plt.subplot(325)\n",
    "sns.countplot(x='assortment', data=df4);\n",
    "\n",
    "plt.subplot(326)\n",
    "sns.kdeplot(data=a, x='sales', hue='assortment', shade='True');"
   ]
  },
  {
   "cell_type": "markdown",
   "id": "e0c5b808",
   "metadata": {},
   "source": [
    "## 4.3. Análise Bivariada"
   ]
  },
  {
   "cell_type": "markdown",
   "id": "dadcfac5",
   "metadata": {
    "heading_collapsed": true
   },
   "source": [
    "### 4.3.1 Hypothesis Test"
   ]
  },
  {
   "cell_type": "markdown",
   "id": "60290f54",
   "metadata": {
    "ExecuteTime": {
     "end_time": "2021-10-28T22:00:44.527495Z",
     "start_time": "2021-10-28T22:00:44.522506Z"
    },
    "heading_collapsed": true,
    "hidden": true
   },
   "source": [
    "#### H1. Lojas com maior sortimentos deveriam vender mais?\n",
    "**False** Lojas com maior sortimento vendem menos"
   ]
  },
  {
   "cell_type": "code",
   "execution_count": null,
   "id": "051c1b27",
   "metadata": {
    "ExecuteTime": {
     "start_time": "2022-03-01T21:22:49.598Z"
    },
    "hidden": true,
    "scrolled": false
   },
   "outputs": [],
   "source": [
    "aux1 = df4[['assortment', 'sales']].groupby ('assortment').sum().reset_index()\n",
    "sns.barplot(x='assortment', y='sales', data=aux1);\n",
    "\n",
    "aux2 = df4[['year_of_week', 'assortment', 'sales']].groupby(['year_of_week', 'assortment']).sum().reset_index()\n",
    "aux2.pivot(index='year_of_week', columns='assortment', values='sales').plot()\n",
    "\n",
    "aux3 = aux2[aux2['assortment'] == 'extra']\n",
    "aux3.pivot(index = 'year_of_week', columns = 'assortment', values= 'sales').plot()"
   ]
  },
  {
   "cell_type": "markdown",
   "id": "bd83c77f",
   "metadata": {
    "heading_collapsed": true,
    "hidden": true
   },
   "source": [
    "#### H2. Lojas com competidores mais próximos deveriam vender menos.\n",
    "**False** Lojas com competidores proximos vendem mais"
   ]
  },
  {
   "cell_type": "code",
   "execution_count": null,
   "id": "3777ed44",
   "metadata": {
    "ExecuteTime": {
     "start_time": "2022-03-01T21:22:49.601Z"
    },
    "hidden": true,
    "scrolled": false
   },
   "outputs": [],
   "source": [
    "aux1 = df4[['competition_distance', 'sales']].groupby('competition_distance').sum().reset_index()\n",
    "\n",
    "plt.subplot(131)\n",
    "sns.scatterplot(x='competition_distance', y='sales', data=aux1)\n",
    "\n",
    "plt.subplot(132)\n",
    "bins = list(np.arange(0, 20000, 1000))\n",
    "aux1['competition_distance_bined'] = pd.cut(aux1['competition_distance'], bins=bins)\n",
    "aux2 = aux1[['competition_distance_bined', 'sales']].groupby('competition_distance_bined').sum().reset_index()\n",
    "sns.barplot(x='competition_distance_bined', y='sales', data=aux2);\n",
    "plt.xticks(rotation=90)\n",
    "\n",
    "plt.subplot(133)\n",
    "sns.heatmap(aux1.corr(method='pearson'), annot=True);\n"
   ]
  },
  {
   "cell_type": "markdown",
   "id": "bc658f7a",
   "metadata": {
    "heading_collapsed": true,
    "hidden": true
   },
   "source": [
    "#### H3. Lojas com competidores à mais tempo deveriam vendem mais.\n",
    "**False** Lojas competidores a mais tempo vendem menos"
   ]
  },
  {
   "cell_type": "code",
   "execution_count": null,
   "id": "7aa7e172",
   "metadata": {
    "ExecuteTime": {
     "start_time": "2022-03-01T21:22:49.605Z"
    },
    "hidden": true
   },
   "outputs": [],
   "source": [
    "plt.subplot(131)\n",
    "aux1 = df4[['competition_time_month', 'sales']].groupby('competition_time_month').sum().reset_index()\n",
    "aux2 = aux1[(aux1['competition_time_month'] < 120) & (aux1['competition_time_month'] != 0)]\n",
    "sns.barplot(x='competition_time_month', y='sales', data=aux2);\n",
    "plt.xticks(rotation=90);\n",
    "\n",
    "plt.subplot(132)\n",
    "sns.regplot(x='competition_time_month', y='sales', data=aux2);\n",
    "\n",
    "plt.subplot(133)\n",
    "sns.heatmap(aux2.corr(method='pearson'), annot=True);"
   ]
  },
  {
   "cell_type": "markdown",
   "id": "026ec828",
   "metadata": {
    "heading_collapsed": true,
    "hidden": true
   },
   "source": [
    "#### H4. Lojas com promoções ativas por mais tempo deveriam vender mais.\n",
    "**False** Lojas com promoções ativas por mais tempo vendem menos, depois de um certo período de promoção"
   ]
  },
  {
   "cell_type": "code",
   "execution_count": null,
   "id": "8a556628",
   "metadata": {
    "ExecuteTime": {
     "start_time": "2022-03-01T21:22:49.608Z"
    },
    "hidden": true
   },
   "outputs": [],
   "source": [
    "aux1 = df4[['promo_time_week', 'sales']].groupby('promo_time_week').sum().reset_index()\n",
    "\n",
    "grid = GridSpec(2,3)\n",
    "\n",
    "plt.subplot (grid[0,0])\n",
    "aux2 = aux1[aux1['promo_time_week'] > 0] # promo extendido\n",
    "sns.barplot(x='promo_time_week', y ='sales', data = aux2);\n",
    "plt.xticks (rotation=90);\n",
    "\n",
    "plt.subplot (grid[0,1])\n",
    "sns.regplot(x='promo_time_week', y ='sales', data = aux2);\n",
    "\n",
    "plt.subplot (grid[1,0])\n",
    "aux3 = aux1[aux1['promo_time_week'] < 0] # promo regular\n",
    "sns.barplot(x='promo_time_week', y ='sales', data = aux3);\n",
    "\n",
    "plt.subplot (grid[1,1])\n",
    "sns.regplot(x='promo_time_week', y ='sales', data = aux3);\n",
    "\n",
    "plt.subplot (grid[:,2])\n",
    "sns.heatmap(aux1.corr(method='pearson'), annot=True);"
   ]
  },
  {
   "cell_type": "markdown",
   "id": "e54c8a25",
   "metadata": {
    "heading_collapsed": true,
    "hidden": true
   },
   "source": [
    "####  <s> H5. Lojas com mais dias de promoção deveriam vender mais.</s>"
   ]
  },
  {
   "cell_type": "markdown",
   "id": "ac15a2cf",
   "metadata": {
    "heading_collapsed": true,
    "hidden": true
   },
   "source": [
    "#### H6. Lojas com mais promoções consecutivas deveriam vender mais.\n",
    "**False** Lojas com mais promoções consecutivas vendem menos"
   ]
  },
  {
   "cell_type": "code",
   "execution_count": null,
   "id": "9dbb8ae4",
   "metadata": {
    "ExecuteTime": {
     "start_time": "2022-03-01T21:22:49.613Z"
    },
    "hidden": true
   },
   "outputs": [],
   "source": [
    "df4[['promo', 'promo2','sales']].groupby(['promo', 'promo2']).sum().reset_index()"
   ]
  },
  {
   "cell_type": "code",
   "execution_count": null,
   "id": "2ecfc64e",
   "metadata": {
    "ExecuteTime": {
     "start_time": "2022-03-01T21:22:49.615Z"
    },
    "hidden": true
   },
   "outputs": [],
   "source": [
    "aux1 = df4[(df4['promo'] == 1) & (df4['promo2'] == 1)][['year_of_week', 'sales']].groupby('year_of_week').sum().reset_index()\n",
    "ax = aux1.plot();\n",
    "\n",
    "aux2 = df4[(df4['promo'] == 1) & (df4['promo2'] == 0)][['year_of_week', 'sales']].groupby('year_of_week').sum().reset_index()\n",
    "\n",
    "aux2.plot(figsize=(20, 10), ax = ax)\n",
    "\n",
    "ax.legend(labels=('Tradicional & Extendida', 'Extendida'));"
   ]
  },
  {
   "cell_type": "markdown",
   "id": "458f27da",
   "metadata": {
    "heading_collapsed": true,
    "hidden": true
   },
   "source": [
    "#### H7. Lojas no feriado de Natal vendem mais.\n",
    "**False** Lojas vendem menos no Natal"
   ]
  },
  {
   "cell_type": "code",
   "execution_count": null,
   "id": "445ba6e8",
   "metadata": {
    "ExecuteTime": {
     "start_time": "2022-03-01T21:22:49.618Z"
    },
    "hidden": true
   },
   "outputs": [],
   "source": [
    "aux = df4[df4['state_holiday'] != 'regular_day']\n",
    "\n",
    "plt.subplot(121)\n",
    "\n",
    "aux1 = aux[['state_holiday', 'sales']].groupby('state_holiday').sum().reset_index()\n",
    "sns.barplot(x='state_holiday', y='sales', data=aux1);\n",
    "\n",
    "plt.subplot(122)\n",
    "aux2 = aux[['year', 'state_holiday', 'sales']].groupby(['year', 'state_holiday']).sum().reset_index()\n",
    "sns.barplot(x='year', y='sales',hue='state_holiday', data=aux2);"
   ]
  },
  {
   "cell_type": "markdown",
   "id": "fe276bce",
   "metadata": {
    "heading_collapsed": true,
    "hidden": true
   },
   "source": [
    "#### H8. Lojas vedem mais ao longo dos anos\n",
    "**False** Lojas vendem mensos ao longo dos anos"
   ]
  },
  {
   "cell_type": "code",
   "execution_count": null,
   "id": "38892eae",
   "metadata": {
    "ExecuteTime": {
     "start_time": "2022-03-01T21:22:49.621Z"
    },
    "hidden": true
   },
   "outputs": [],
   "source": [
    "aux1 = df4[['year', 'sales']].groupby('year').sum().reset_index()\n",
    "\n",
    "plt.subplot(131)\n",
    "sns.barplot(x='year', y='sales', data=aux1);\n",
    "\n",
    "plt.subplot(132)\n",
    "sns.regplot(x='year', y='sales', data=aux1);\n",
    "\n",
    "plt.subplot(133)\n",
    "sns.heatmap(aux1.corr(method = 'pearson'),annot=True);"
   ]
  },
  {
   "cell_type": "markdown",
   "id": "c5bad391",
   "metadata": {
    "heading_collapsed": true,
    "hidden": true
   },
   "source": [
    "#### H9. Lojas vendem mais no segundo semenstre do ano\n",
    "**False** Lojas vendem no segundo sementre do ano"
   ]
  },
  {
   "cell_type": "code",
   "execution_count": null,
   "id": "9255be84",
   "metadata": {
    "ExecuteTime": {
     "start_time": "2022-03-01T21:22:49.624Z"
    },
    "hidden": true
   },
   "outputs": [],
   "source": [
    "aux1 = df4[['month', 'sales']].groupby('month').sum().reset_index()\n",
    "\n",
    "plt.subplot(131)\n",
    "sns.barplot(x='month', y='sales', data=aux1);\n",
    "\n",
    "plt.subplot(132)\n",
    "sns.regplot(x='month', y='sales', data=aux1);\n",
    "\n",
    "plt.subplot(133)\n",
    "sns.heatmap(aux1.corr(method = 'pearson'),annot=True);"
   ]
  },
  {
   "cell_type": "markdown",
   "id": "0681b4be",
   "metadata": {
    "heading_collapsed": true,
    "hidden": true
   },
   "source": [
    "#### H10. Lojas deveriam vender mais após o dia 10 de cada mês\n",
    "**True** Lojas vendem mais depois do dia 10 de cada mes "
   ]
  },
  {
   "cell_type": "code",
   "execution_count": null,
   "id": "28650228",
   "metadata": {
    "ExecuteTime": {
     "start_time": "2022-03-01T21:22:49.629Z"
    },
    "hidden": true
   },
   "outputs": [],
   "source": [
    "aux1 = df4[['day', 'sales']].groupby('day').sum().reset_index()\n",
    "\n",
    "plt.subplot(221)\n",
    "sns.barplot(x='day', y='sales', data=aux1);\n",
    "\n",
    "plt.subplot(222)\n",
    "sns.regplot(x='day', y='sales', data=aux1);\n",
    "\n",
    "plt.subplot(223)\n",
    "sns.heatmap(aux1.corr(method = 'pearson'),annot=True);\n",
    "\n",
    "plt.subplot(224)\n",
    "aux1['before_after'] = aux1['day'].apply(lambda x: 'before_10_days' if x <= 10 else 'after_10_days')\n",
    "aux2 = aux1[['before_after', 'sales']].groupby('before_after').sum().reset_index()\n",
    "sns.barplot(x='before_after', y='sales', data=aux2);"
   ]
  },
  {
   "cell_type": "markdown",
   "id": "dad082cb",
   "metadata": {
    "heading_collapsed": true,
    "hidden": true
   },
   "source": [
    "#### H11. Lojas vendem menos no final de semana \n",
    "**True** Lojas vendem mesnos no final de semana"
   ]
  },
  {
   "cell_type": "code",
   "execution_count": null,
   "id": "9b3ade40",
   "metadata": {
    "ExecuteTime": {
     "start_time": "2022-03-01T21:22:49.632Z"
    },
    "hidden": true
   },
   "outputs": [],
   "source": [
    "aux1 = df4[['day_of_week', 'sales']].groupby('day_of_week').sum().reset_index()\n",
    "\n",
    "plt.subplot(131)\n",
    "sns.barplot(x='day_of_week', y='sales', data=aux1);\n",
    "\n",
    "plt.subplot(132)\n",
    "sns.regplot(x='day_of_week', y='sales', data=aux1);\n",
    "\n",
    "plt.subplot(133)\n",
    "sns.heatmap(aux1.corr(method = 'pearson'),annot=True);"
   ]
  },
  {
   "cell_type": "markdown",
   "id": "9f3a099e",
   "metadata": {
    "ExecuteTime": {
     "end_time": "2021-10-29T01:30:43.311857Z",
     "start_time": "2021-10-29T01:30:43.306871Z"
    },
    "heading_collapsed": true,
    "hidden": true
   },
   "source": [
    "#### H12. Lojas vendem menos durante feriados escolares\n",
    "**True** Lojas vendem menos no feriados escolares, exceto julho e agosto, qunado vendem mais"
   ]
  },
  {
   "cell_type": "code",
   "execution_count": null,
   "id": "fca6617f",
   "metadata": {
    "ExecuteTime": {
     "start_time": "2022-03-01T21:22:49.636Z"
    },
    "hidden": true
   },
   "outputs": [],
   "source": [
    "plt.subplot(211)\n",
    "aux1 = df4[['school_holiday', 'sales']].groupby('school_holiday').sum().reset_index()\n",
    "sns.barplot(x='school_holiday', y='sales', data=aux1);\n",
    "\n",
    "plt.subplot(212)\n",
    "aux2 = df4[['month','school_holiday', 'sales']].groupby(['month', 'school_holiday']).sum().reset_index()\n",
    "sns.barplot(x='month', y='sales',hue='school_holiday',  data=aux2);"
   ]
  },
  {
   "cell_type": "code",
   "execution_count": null,
   "id": "39a371b8",
   "metadata": {
    "hidden": true
   },
   "outputs": [],
   "source": []
  },
  {
   "cell_type": "markdown",
   "id": "16fc5c57",
   "metadata": {
    "heading_collapsed": true
   },
   "source": [
    "### 4.3.1 Hypothesis Summary"
   ]
  },
  {
   "cell_type": "code",
   "execution_count": null,
   "id": "8e02916f",
   "metadata": {
    "ExecuteTime": {
     "start_time": "2022-03-01T21:22:49.641Z"
    },
    "code_folding": [
     0
    ],
    "hidden": true
   },
   "outputs": [],
   "source": [
    "tab=[['Hipoteses','Conclusao','Relevancia'],\n",
    "     ['H01','Falsa','Baixa'],\n",
    "     ['H02','Falsa','Media'],\n",
    "     ['H03','Falsa','Media'],\n",
    "     ['H04','Falsa','Baixa'],\n",
    "     ['H05','-','-'],\n",
    "     ['H06','Falsa','Baixa'],\n",
    "     ['H07','Falsa','Media'],\n",
    "     ['H08','Falsa','Alta'],\n",
    "     ['H09','Falsa','Alta'],\n",
    "     ['H10','Verdadeira','Alta'],\n",
    "     ['H11','Verdadeira','Alta'],\n",
    "     ['H12','Verdadeira','Baixa'],]\n",
    "print( tabulate( tab, headers='firstrow') )"
   ]
  },
  {
   "cell_type": "markdown",
   "id": "e990a311",
   "metadata": {},
   "source": [
    "## 4.4. Análise Multivarida"
   ]
  },
  {
   "cell_type": "markdown",
   "id": "c588d79e",
   "metadata": {
    "heading_collapsed": true
   },
   "source": [
    "### 4.3.1. Numerical Attributes - Método de Pearson"
   ]
  },
  {
   "cell_type": "code",
   "execution_count": null,
   "id": "d7cab125",
   "metadata": {
    "ExecuteTime": {
     "start_time": "2022-03-01T21:22:49.645Z"
    },
    "hidden": true
   },
   "outputs": [],
   "source": [
    "correlation = num_attributes.corr(method='pearson')\n",
    "sns.heatmap(correlation, annot=True);\n",
    "\n",
    "# mais escuro  > a correlação negativa\n",
    "# mais claro > a correlação posiiva"
   ]
  },
  {
   "cell_type": "markdown",
   "id": "ee2976a8",
   "metadata": {
    "heading_collapsed": true
   },
   "source": [
    "### 4.3.2. Categorical Attributes - Cramér's V"
   ]
  },
  {
   "cell_type": "code",
   "execution_count": null,
   "id": "85560fba",
   "metadata": {
    "ExecuteTime": {
     "start_time": "2022-03-01T21:22:49.649Z"
    },
    "hidden": true
   },
   "outputs": [],
   "source": [
    "def cramer_v (x,y):\n",
    "    cm = pd.crosstab(x,y).to_numpy()\n",
    "    n = cm.sum()\n",
    "    r, k = cm.shape\n",
    "    \n",
    "    chi2 = ss.chi2_contingency (cm) [0]\n",
    "    chi2corr = max (0, chi2 - (k-1)*(r-1)/(n-1))\n",
    "    \n",
    "    kcorr = k - (k-1)**2/(n-1)\n",
    "    rcorr = r - (r-1)**2/(n-1)\n",
    "    \n",
    "    return np.sqrt((chi2corr/n) / (min(kcorr-1, rcorr-1)))   "
   ]
  },
  {
   "cell_type": "code",
   "execution_count": null,
   "id": "425fa6bd",
   "metadata": {
    "ExecuteTime": {
     "start_time": "2022-03-01T21:22:49.652Z"
    },
    "hidden": true
   },
   "outputs": [],
   "source": [
    "a = df4.select_dtypes(include = 'object')"
   ]
  },
  {
   "cell_type": "code",
   "execution_count": null,
   "id": "da20ea16",
   "metadata": {
    "ExecuteTime": {
     "start_time": "2022-03-01T21:22:49.654Z"
    },
    "hidden": true
   },
   "outputs": [],
   "source": [
    "a1 = cramer_v(a['state_holiday'], a['state_holiday'])\n",
    "a2 = cramer_v(a['state_holiday'], a['store_type'])\n",
    "a3 = cramer_v(a['state_holiday'], a['assortment'])\n",
    "\n",
    "a4 = cramer_v(a['store_type'], a['state_holiday'])\n",
    "a5 = cramer_v(a['store_type'], a['store_type'])\n",
    "a6 = cramer_v(a['store_type'], a['assortment'])\n",
    "\n",
    "a7 = cramer_v(a['assortment'], a['state_holiday'])\n",
    "a8 = cramer_v(a['assortment'], a['store_type'])\n",
    "a9 = cramer_v(a['assortment'], a['assortment'])\n",
    "\n",
    "d = pd.DataFrame({'state_holiday': [a1,a2,a3],\n",
    "              'store_type': [a4,a5,a6],\n",
    "              'assortment': [a7,a8,a9]})\n",
    "\n",
    "d = d.set_index(d.columns)\n",
    "d"
   ]
  },
  {
   "cell_type": "code",
   "execution_count": null,
   "id": "a3e4ca60",
   "metadata": {
    "ExecuteTime": {
     "start_time": "2022-03-01T21:22:49.659Z"
    },
    "hidden": true
   },
   "outputs": [],
   "source": [
    "sns.heatmap(d, annot=True);"
   ]
  },
  {
   "cell_type": "markdown",
   "id": "9a99566e",
   "metadata": {
    "heading_collapsed": true,
    "hidden": true
   },
   "source": [
    "#### Draft"
   ]
  },
  {
   "cell_type": "code",
   "execution_count": null,
   "id": "de48292d",
   "metadata": {
    "ExecuteTime": {
     "start_time": "2022-03-01T21:22:49.662Z"
    },
    "hidden": true
   },
   "outputs": [],
   "source": [
    "a.head()"
   ]
  },
  {
   "cell_type": "code",
   "execution_count": null,
   "id": "95fbe69d",
   "metadata": {
    "ExecuteTime": {
     "start_time": "2022-03-01T21:22:49.665Z"
    },
    "hidden": true
   },
   "outputs": [],
   "source": [
    "cm = pd.crosstab(a['state_holiday'], a['store_type']).values"
   ]
  },
  {
   "cell_type": "code",
   "execution_count": null,
   "id": "eb39d77b",
   "metadata": {
    "ExecuteTime": {
     "start_time": "2022-03-01T21:22:49.669Z"
    },
    "hidden": true
   },
   "outputs": [],
   "source": [
    "chi2 = ss.chi2_contingency(cm)[0]\n",
    "\n",
    "n = cm.sum ()\n",
    "\n",
    "r, k = cm.shape"
   ]
  },
  {
   "cell_type": "code",
   "execution_count": null,
   "id": "8273b973",
   "metadata": {
    "ExecuteTime": {
     "start_time": "2022-03-01T21:22:49.672Z"
    },
    "hidden": true
   },
   "outputs": [],
   "source": [
    "chi2"
   ]
  },
  {
   "cell_type": "code",
   "execution_count": null,
   "id": "1fccffb5",
   "metadata": {
    "ExecuteTime": {
     "start_time": "2022-03-01T21:22:49.676Z"
    },
    "hidden": true
   },
   "outputs": [],
   "source": [
    "v = np.sqrt((chi2/n)) / (min(k-1, r-1))"
   ]
  },
  {
   "cell_type": "code",
   "execution_count": null,
   "id": "b22cb4c3",
   "metadata": {
    "ExecuteTime": {
     "start_time": "2022-03-01T21:22:49.678Z"
    },
    "hidden": true
   },
   "outputs": [],
   "source": [
    "v"
   ]
  },
  {
   "cell_type": "code",
   "execution_count": null,
   "id": "c1298166",
   "metadata": {
    "hidden": true
   },
   "outputs": [],
   "source": []
  },
  {
   "cell_type": "markdown",
   "id": "0b3ae225",
   "metadata": {},
   "source": [
    "# 5.0. Step 5 - Data Preparation"
   ]
  },
  {
   "cell_type": "markdown",
   "id": "60f45e11",
   "metadata": {},
   "source": [
    "## 5.1.Data"
   ]
  },
  {
   "cell_type": "code",
   "execution_count": null,
   "id": "669c5181",
   "metadata": {
    "ExecuteTime": {
     "start_time": "2022-03-01T21:22:49.684Z"
    }
   },
   "outputs": [],
   "source": [
    "df5 = df4"
   ]
  },
  {
   "cell_type": "markdown",
   "id": "24cf1c89",
   "metadata": {},
   "source": [
    "## 5.2. Normalization"
   ]
  },
  {
   "cell_type": "markdown",
   "id": "a3a3a35d",
   "metadata": {},
   "source": [
    "Normalização não efetuada, pois, as variaveis não possuem distribuição normal"
   ]
  },
  {
   "cell_type": "markdown",
   "id": "1fab2a95",
   "metadata": {},
   "source": [
    "## 5.3. Rescaling"
   ]
  },
  {
   "cell_type": "code",
   "execution_count": null,
   "id": "70447027",
   "metadata": {
    "ExecuteTime": {
     "start_time": "2022-03-01T21:22:49.688Z"
    }
   },
   "outputs": [],
   "source": [
    "a = df5.select_dtypes(include=['int64', 'float64'])"
   ]
  },
  {
   "cell_type": "code",
   "execution_count": null,
   "id": "2e039fd9",
   "metadata": {
    "ExecuteTime": {
     "start_time": "2022-03-01T21:22:49.690Z"
    }
   },
   "outputs": [],
   "source": [
    "plt.subplot(311)\n",
    "sns.boxplot(df5['competition_distance']);\n",
    "\n",
    "plt.subplot(312)\n",
    "sns.boxplot(df5['competition_time_month']);\n",
    "\n",
    "plt.subplot(313)\n",
    "sns.boxplot(df5['promo_time_week']);"
   ]
  },
  {
   "cell_type": "code",
   "execution_count": null,
   "id": "85eee991",
   "metadata": {
    "ExecuteTime": {
     "start_time": "2022-03-01T21:22:49.693Z"
    }
   },
   "outputs": [],
   "source": [
    "rs = RobustScaler()\n",
    "mms = MinMaxScaler()\n",
    "\n",
    "# competition distance\n",
    "df5['competition_distance'] = rs.fit_transform(df5[['competition_distance']].values)\n",
    "\n",
    "# competition time month\n",
    "df5['competition_time_month'] = rs.fit_transform(df5[['competition_time_month']].values)\n",
    "\n",
    "# promo time week\n",
    "df5['promo_time_week'] = mms.fit_transform(df5[['promo_time_week']].values)\n",
    "\n",
    "# year\n",
    "df5['year'] = mms.fit_transform(df5[['year']].values)"
   ]
  },
  {
   "cell_type": "markdown",
   "id": "8163e71d",
   "metadata": {},
   "source": [
    "### 5.4. Encoding"
   ]
  },
  {
   "cell_type": "code",
   "execution_count": null,
   "id": "ebd7f047",
   "metadata": {
    "ExecuteTime": {
     "start_time": "2022-03-01T21:22:49.697Z"
    }
   },
   "outputs": [],
   "source": [
    "# month\n",
    "# day\n",
    "# week of year\n",
    "# day of week"
   ]
  },
  {
   "cell_type": "code",
   "execution_count": null,
   "id": "8dcc6330",
   "metadata": {},
   "outputs": [],
   "source": []
  },
  {
   "cell_type": "code",
   "execution_count": null,
   "id": "2b12989b",
   "metadata": {},
   "outputs": [],
   "source": []
  },
  {
   "cell_type": "code",
   "execution_count": null,
   "id": "e958a293",
   "metadata": {},
   "outputs": [],
   "source": []
  },
  {
   "cell_type": "code",
   "execution_count": null,
   "id": "1aa11239",
   "metadata": {},
   "outputs": [],
   "source": []
  }
 ],
 "metadata": {
  "hide_input": false,
  "kernelspec": {
   "display_name": "Python 3 (ipykernel)",
   "language": "python",
   "name": "python3"
  },
  "language_info": {
   "codemirror_mode": {
    "name": "ipython",
    "version": 3
   },
   "file_extension": ".py",
   "mimetype": "text/x-python",
   "name": "python",
   "nbconvert_exporter": "python",
   "pygments_lexer": "ipython3",
   "version": "3.9.10"
  },
  "toc": {
   "base_numbering": 1,
   "nav_menu": {},
   "number_sections": true,
   "sideBar": true,
   "skip_h1_title": false,
   "title_cell": "Table of Contents",
   "title_sidebar": "Contents",
   "toc_cell": false,
   "toc_position": {},
   "toc_section_display": true,
   "toc_window_display": false
  }
 },
 "nbformat": 4,
 "nbformat_minor": 5
}
