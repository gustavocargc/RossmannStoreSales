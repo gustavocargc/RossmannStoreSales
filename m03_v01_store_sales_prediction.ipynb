{
 "cells": [
  {
   "cell_type": "markdown",
   "id": "57f2688e",
   "metadata": {},
   "source": [
    "# 0.0. Step 0 - Imports"
   ]
  },
  {
   "cell_type": "code",
   "execution_count": 1,
   "id": "0bcd8368",
   "metadata": {
    "ExecuteTime": {
     "end_time": "2022-03-01T17:42:06.786355Z",
     "start_time": "2022-03-01T17:41:12.247982Z"
    }
   },
   "outputs": [],
   "source": [
    "import math\n",
    "import numpy as np\n",
    "import pandas as pd\n",
    "import inflection\n",
    "\n",
    "import seaborn as sns\n",
    "\n",
    "from numpy import int64\n",
    "from matplotlib import pyplot as plt\n",
    "from IPython.core.display import HTML\n",
    "from IPython.display import Image"
   ]
  },
  {
   "cell_type": "markdown",
   "id": "267ca0c6",
   "metadata": {},
   "source": [
    "## 0.1. Helper Functions "
   ]
  },
  {
   "cell_type": "code",
   "execution_count": 2,
   "id": "928b09bb",
   "metadata": {
    "ExecuteTime": {
     "end_time": "2022-03-01T17:42:06.817636Z",
     "start_time": "2022-03-01T17:42:06.788672Z"
    }
   },
   "outputs": [],
   "source": [
    "def jupyter_settings():\n",
    "    %matplotlib inline\n",
    "    %pylab inline\n",
    "    \n",
    "    plt.style.use('bmh')\n",
    "    plt.rcParams['figure.figsize'] = [20, 12]\n",
    "    plt.rcParams['font.size'] = 25\n",
    "#    \n",
    "    display(HTML( '<style>.container {width:100% !important;}</style>'))\n",
    "#    pd.options.display.max_columns = None\n",
    "#    pd.options.display.max_rows = None\n",
    "#    pd.set_option('display.expand_frame_repr', False)\n",
    "            \n",
    "    sns.set() "
   ]
  },
  {
   "cell_type": "code",
   "execution_count": 3,
   "id": "6d1eb951",
   "metadata": {
    "ExecuteTime": {
     "end_time": "2022-03-01T17:42:06.886163Z",
     "start_time": "2022-03-01T17:42:06.821233Z"
    }
   },
   "outputs": [
    {
     "name": "stdout",
     "output_type": "stream",
     "text": [
      "%pylab is deprecated, use %matplotlib inline and import the required libraries.\n",
      "Populating the interactive namespace from numpy and matplotlib\n"
     ]
    },
    {
     "data": {
      "text/html": [
       "<style>.container {width:100% !important;}</style>"
      ],
      "text/plain": [
       "<IPython.core.display.HTML object>"
      ]
     },
     "metadata": {},
     "output_type": "display_data"
    }
   ],
   "source": [
    "jupyter_settings ()"
   ]
  },
  {
   "cell_type": "markdown",
   "id": "db5fb6e9",
   "metadata": {},
   "source": [
    "## 0.2. Loading Data"
   ]
  },
  {
   "cell_type": "markdown",
   "id": "714460e2",
   "metadata": {},
   "source": [
    "# 1.0. Step 1 - Descrição dos Dados"
   ]
  },
  {
   "cell_type": "markdown",
   "id": "9992b7a5",
   "metadata": {},
   "source": [
    "## 1.1. Data"
   ]
  },
  {
   "cell_type": "code",
   "execution_count": 4,
   "id": "a384f46a",
   "metadata": {
    "ExecuteTime": {
     "end_time": "2022-03-01T17:42:08.349526Z",
     "start_time": "2022-03-01T17:42:06.888193Z"
    }
   },
   "outputs": [
    {
     "ename": "NameError",
     "evalue": "name 'ddd' is not defined",
     "output_type": "error",
     "traceback": [
      "\u001b[1;31m---------------------------------------------------------------------------\u001b[0m",
      "\u001b[1;31mNameError\u001b[0m                                 Traceback (most recent call last)",
      "Input \u001b[1;32mIn [4]\u001b[0m, in \u001b[0;36m<cell line: 1>\u001b[1;34m()\u001b[0m\n\u001b[1;32m----> 1\u001b[0m df_sales_raw \u001b[38;5;241m=\u001b[39m pd\u001b[38;5;241m.\u001b[39mread_csv (\u001b[38;5;124m'\u001b[39m\u001b[38;5;124mdata/train.csv\u001b[39m\u001b[38;5;124m'\u001b[39m, low_memory \u001b[38;5;241m=\u001b[39m ddd)\n\u001b[0;32m      2\u001b[0m df_xxxxxxxx_raw \u001b[38;5;241m=\u001b[39m pd\u001b[38;5;241m.\u001b[39mread_csv (\u001b[38;5;124m'\u001b[39m\u001b[38;5;124mdata/xxxxxxxx.csv\u001b[39m\u001b[38;5;124m'\u001b[39m, low_memory \u001b[38;5;241m=\u001b[39m ddd)\n\u001b[0;32m      4\u001b[0m \u001b[38;5;66;03m#dd\u001b[39;00m\n",
      "\u001b[1;31mNameError\u001b[0m: name 'ddd' is not defined"
     ]
    }
   ],
   "source": [
    "df_sales_raw = pd.read_csv ('data/train.csv', low_memory = ddd)\n",
    "df_xxxxxxxx_raw = pd.read_csv ('data/xxxxxxxx.csv', low_memory = ddd)\n",
    "\n",
    "#dd\n",
    "df_raw = pd.dd (df_sales_raw, df_xxxxxxxx_raw, how='left', on='xxxxxxxx')"
   ]
  },
  {
   "cell_type": "code",
   "execution_count": null,
   "id": "6b993479",
   "metadata": {
    "ExecuteTime": {
     "end_time": "2022-03-01T17:42:08.353209Z",
     "start_time": "2022-03-01T17:42:08.353209Z"
    }
   },
   "outputs": [],
   "source": [
    "df1 = df_raw.copy()"
   ]
  },
  {
   "cell_type": "markdown",
   "id": "d01d6da5",
   "metadata": {
    "heading_collapsed": true
   },
   "source": [
    "## 1.2. Rename Columns"
   ]
  },
  {
   "cell_type": "code",
   "execution_count": null,
   "id": "9b34f45a",
   "metadata": {
    "ExecuteTime": {
     "end_time": "2022-03-01T17:42:08.355203Z",
     "start_time": "2022-03-01T17:42:08.355203Z"
    },
    "hidden": true
   },
   "outputs": [],
   "source": [
    "cols_old = ['Store', 'DayOfWeek', 'Date', 'Sales', 'Customers', 'Open', 'Promo','StateHoliday', 'SchoolHoliday',\n",
    "            'StoreType', 'Assortment', 'CompetitionDistance', 'CompetitionOpenSinceMonth','CompetitionOpenSinceYear',\n",
    "            'Promo2', 'Promo2SinceWeek','Promo2SinceYear', 'PromoInterval']\n",
    "\n",
    "snakecase = lambda x: inflection.underscore(x)\n",
    "cols_new = list(map(snakecase, cols_old))\n",
    "\n",
    "#rename\n",
    "df1.columns = cols_new"
   ]
  },
  {
   "cell_type": "markdown",
   "id": "357f868c",
   "metadata": {
    "heading_collapsed": true
   },
   "source": [
    "## 1.3. Data Dimensions"
   ]
  },
  {
   "cell_type": "code",
   "execution_count": null,
   "id": "558b395d",
   "metadata": {
    "ExecuteTime": {
     "end_time": "2022-03-01T17:42:08.357870Z",
     "start_time": "2022-03-01T17:42:08.357870Z"
    },
    "hidden": true
   },
   "outputs": [],
   "source": [
    "print('Number of Rows {}'.format(df1.shape[0]))\n",
    "print('Number od Columns {}'.format(df1.shape[1]))"
   ]
  },
  {
   "cell_type": "markdown",
   "id": "dce4a681",
   "metadata": {
    "heading_collapsed": true
   },
   "source": [
    "## 1.4. Data Types"
   ]
  },
  {
   "cell_type": "code",
   "execution_count": null,
   "id": "742bfb00",
   "metadata": {
    "ExecuteTime": {
     "end_time": "2022-03-01T17:42:08.359770Z",
     "start_time": "2022-03-01T17:42:08.359770Z"
    },
    "hidden": true
   },
   "outputs": [],
   "source": [
    "df1['date'] = pd.to_datetime(df1['date'])\n",
    "df1.dtypes"
   ]
  },
  {
   "cell_type": "markdown",
   "id": "46593fac",
   "metadata": {
    "heading_collapsed": true
   },
   "source": [
    "## 1.5. Check NA"
   ]
  },
  {
   "cell_type": "code",
   "execution_count": null,
   "id": "ab035ba5",
   "metadata": {
    "ExecuteTime": {
     "end_time": "2022-03-01T17:42:08.361767Z",
     "start_time": "2022-03-01T17:42:08.361767Z"
    },
    "hidden": true
   },
   "outputs": [],
   "source": [
    "df1.isna().sum()"
   ]
  },
  {
   "cell_type": "markdown",
   "id": "b326cb7a",
   "metadata": {
    "heading_collapsed": true
   },
   "source": [
    "## 1.6. Fillout NA"
   ]
  },
  {
   "cell_type": "code",
   "execution_count": null,
   "id": "f33bc8ea",
   "metadata": {
    "ExecuteTime": {
     "end_time": "2022-03-01T17:42:08.363762Z",
     "start_time": "2022-03-01T17:42:08.363762Z"
    },
    "hidden": true
   },
   "outputs": [],
   "source": [
    "#competition_distance \n",
    "df1['competition_distance'] = df1['competition_distance'].apply(lambda x: 2000000.0 if math.isnan (x) else (x))\n",
    "\n",
    "#competition_open_since_month  \n",
    "df1['competition_open_since_month'] = df1.apply(lambda x: x['date'].month if math.isnan(x['competition_open_since_month']) else x['competition_open_since_month'], axis=1)\n",
    "\n",
    "#competition_open_since_year    \n",
    "df1['competition_open_since_year'] = df1.apply(lambda x: x['date'].year if math.isnan(x['competition_open_since_year']) else x['competition_open_since_year'], axis=1 )\n",
    "\n",
    "#promo2_since_week              \n",
    "df1['promo2_since_week'] = df1.apply(lambda x: x['date'].week if math.isnan(x['promo2_since_week']) else x['promo2_since_week'], axis=1 )\n",
    "\n",
    "#promo2_since_year \n",
    "df1['promo2_since_year'] = df1.apply(lambda x: x['date'].year if math.isnan(x['promo2_since_year']) else x['promo2_since_year'], axis=1 )\n",
    "\n",
    "#promo_interval\n",
    "month_map = {1:'Jan', 2:'Feb', 3:'Mar', 4:'Apr', 5:'May', 6:'Jun', 7:'Jul', 8:'Aug', 9:'Sep', 10:'Oct', 11:'Nov', 12:'Dec'}\n",
    "df1['promo_interval'].fillna(0, inplace=True)\n",
    "df1['month_map'] = df1['date'].dt.month.map(month_map)\n",
    "df1['is_promo'] = df1[['promo_interval', 'month_map' ]].apply(lambda x: 0 if x['promo_interval'] == 0 else 1 if x['month_map'] in x['promo_interval'].split( ',') else 0, axis=1)\n"
   ]
  },
  {
   "cell_type": "markdown",
   "id": "3f9e59df",
   "metadata": {
    "heading_collapsed": true
   },
   "source": [
    "## 1.7. Change Types"
   ]
  },
  {
   "cell_type": "code",
   "execution_count": null,
   "id": "c7913fa1",
   "metadata": {
    "ExecuteTime": {
     "end_time": "2022-03-01T17:42:08.369436Z",
     "start_time": "2022-03-01T17:42:08.369436Z"
    },
    "hidden": true
   },
   "outputs": [],
   "source": [
    "df1['competition_open_since_month'] = df1['competition_open_since_month'].astype(int64)\n",
    "df1['competition_open_since_year'] = df1['competition_open_since_year'].astype(int64)\n",
    "df1['promo2_since_week'] = df1['promo2_since_week'].astype(int64)\n",
    "df1['promo2_since_year'] = df1['promo2_since_year'].astype(int64)"
   ]
  },
  {
   "cell_type": "markdown",
   "id": "c235681d",
   "metadata": {
    "heading_collapsed": true
   },
   "source": [
    "## 1.8. Descriptive Statistical"
   ]
  },
  {
   "cell_type": "code",
   "execution_count": null,
   "id": "0837cf02",
   "metadata": {
    "ExecuteTime": {
     "end_time": "2022-03-01T17:42:08.372425Z",
     "start_time": "2022-03-01T17:42:08.372425Z"
    },
    "hidden": true
   },
   "outputs": [],
   "source": [
    "num_attributes = df1.select_dtypes(include=['int64', 'float64'])\n",
    "cat_attributes = df1.select_dtypes(exclude=['int64', 'float64','datetime64[ns]'])"
   ]
  },
  {
   "cell_type": "markdown",
   "id": "cc99f0a2",
   "metadata": {
    "heading_collapsed": true,
    "hidden": true
   },
   "source": [
    "### 1.7.1 Numerical Attributes"
   ]
  },
  {
   "cell_type": "code",
   "execution_count": null,
   "id": "6928e635",
   "metadata": {
    "ExecuteTime": {
     "end_time": "2022-03-01T17:42:08.375469Z",
     "start_time": "2022-03-01T17:42:08.375469Z"
    },
    "hidden": true
   },
   "outputs": [],
   "source": [
    "# central tendency - mean, median\n",
    "ct1 = pd.DataFrame(num_attributes.apply(np.mean)).T\n",
    "ct2 = pd.DataFrame(num_attributes.apply(np.median)).T\n",
    "\n",
    "# dispersion - std, min, max, range, skew, Kurtosis\n",
    "d1 = pd.DataFrame(num_attributes.apply(np.std)).T\n",
    "d2 = pd.DataFrame(num_attributes.apply(min)).T\n",
    "d3 = pd.DataFrame(num_attributes.apply(max)).T\n",
    "d4 = pd.DataFrame(num_attributes.apply(lambda x: x.max() - x.min())).T\n",
    "d5 = pd.DataFrame(num_attributes.apply(lambda x: x.skew())).T\n",
    "d6 = pd.DataFrame(num_attributes.apply(lambda x: x.kurtosis())).T\n",
    "\n",
    "#concatenate\n",
    "m = pd.concat([d2, d3, d4, ct1, ct2, d1, d5, d6]).T.reset_index()\n",
    "m.columns = ['attributes', 'min', 'max', 'range', 'mean', 'median', 'std', 'skew', 'kurtosis']\n",
    "m"
   ]
  },
  {
   "cell_type": "code",
   "execution_count": null,
   "id": "27f8bc74",
   "metadata": {
    "ExecuteTime": {
     "end_time": "2022-03-01T17:42:08.381182Z",
     "start_time": "2022-03-01T17:42:08.381182Z"
    },
    "hidden": true
   },
   "outputs": [],
   "source": [
    "sns.kdeplot(df1['sales']);"
   ]
  },
  {
   "cell_type": "markdown",
   "id": "c3427405",
   "metadata": {
    "heading_collapsed": true,
    "hidden": true
   },
   "source": [
    "### 1.7.2 Categorical Attributes"
   ]
  },
  {
   "cell_type": "code",
   "execution_count": null,
   "id": "c90f3bdc",
   "metadata": {
    "ExecuteTime": {
     "end_time": "2022-03-01T17:42:08.384097Z",
     "start_time": "2022-03-01T17:42:08.383099Z"
    },
    "hidden": true
   },
   "outputs": [],
   "source": [
    "cat_attributes.apply(lambda x: x.unique().shape[0] )"
   ]
  },
  {
   "cell_type": "code",
   "execution_count": null,
   "id": "674b9afc",
   "metadata": {
    "ExecuteTime": {
     "end_time": "2022-03-01T17:42:08.385738Z",
     "start_time": "2022-03-01T17:42:08.385738Z"
    },
    "hidden": true
   },
   "outputs": [],
   "source": [
    "aux1 = df1[(df1['state_holiday'] != '0') & (df1['sales'] > 0)]\n",
    "aux2 = df1[df1['sales'] > 0]\n",
    "\n",
    "plt.subplot(131)\n",
    "sns.boxplot(x='state_holiday', y='sales', data=aux1);\n",
    "\n",
    "plt.subplot(132)\n",
    "sns.boxplot(x='store_type', y='sales', data=aux2);\n",
    "\n",
    "plt.subplot(133)\n",
    "sns.boxplot(x='assortment', y='sales', data=aux2);"
   ]
  },
  {
   "cell_type": "markdown",
   "id": "514b399d",
   "metadata": {},
   "source": [
    "# 2.0. Step 2 - Feature Engineering"
   ]
  },
  {
   "cell_type": "markdown",
   "id": "6912976a",
   "metadata": {},
   "source": [
    "### 2.1. Mind Map Hypothesis"
   ]
  },
  {
   "cell_type": "code",
   "execution_count": null,
   "id": "5339e7fd",
   "metadata": {
    "ExecuteTime": {
     "end_time": "2022-03-01T17:42:08.389639Z",
     "start_time": "2022-03-01T17:42:08.389639Z"
    }
   },
   "outputs": [],
   "source": [
    "Image('img/MindMapHypothesis.png')"
   ]
  },
  {
   "cell_type": "markdown",
   "id": "17eaf04d",
   "metadata": {},
   "source": [
    "### 2.2. Create Hypothesis"
   ]
  },
  {
   "cell_type": "markdown",
   "id": "107d8103",
   "metadata": {},
   "source": [
    "#### 2.2.1. Store Hypothesis"
   ]
  },
  {
   "cell_type": "markdown",
   "id": "a8bceb44",
   "metadata": {
    "ExecuteTime": {
     "end_time": "2021-10-28T13:59:15.770679Z",
     "start_time": "2021-10-28T13:59:15.762696Z"
    }
   },
   "source": [
    "1.Lojas com número maior de funcionários deveriam vender mais.\n",
    "\n",
    "2.Lojas com maior capacidade de estoque deveriam vender mais.\n",
    "\n",
    "3.Lojas com maior porte deveriam vender mais.\n",
    "\n",
    "4.Lojas com maior sortimentos deveriam vender mais.\n",
    "\n",
    "5.Lojas com competidores mais próximos deveriam vender menos.\n",
    "\n",
    "6.Lojas com competidores à mais tempo deveriam vendem mais."
   ]
  },
  {
   "cell_type": "markdown",
   "id": "e8b4f351",
   "metadata": {},
   "source": [
    "#### 2.2.2. Product Hypothesis"
   ]
  },
  {
   "cell_type": "markdown",
   "id": "7a840012",
   "metadata": {
    "ExecuteTime": {
     "end_time": "2021-10-28T14:00:04.080368Z",
     "start_time": "2021-10-28T14:00:04.071391Z"
    }
   },
   "source": [
    "**1**.Lojas que investem mais em Marketing deveriam vender mais.\n",
    "\n",
    "**2**.Lojas com maior exposição de produto deveriam vender mais.\n",
    "\n",
    "**3**.Lojas com produtos com preço menor deveriam vender mais.\n",
    "\n",
    "**5**.Lojas com promoções mais agressivas ( descontos maiores ), deveriam vender mais.\n",
    "\n",
    "**6**.Lojas com promoções ativas por mais tempo deveriam vender mais.\n",
    "\n",
    "**7**.Lojas com mais dias de promoção deveriam vender mais.\n",
    "\n",
    "**8**.Lojas com mais promoções consecutivas deveriam vender mais."
   ]
  },
  {
   "cell_type": "markdown",
   "id": "4718404b",
   "metadata": {},
   "source": [
    "#### 2.2.3. Time Hypothesis (seasonality)"
   ]
  },
  {
   "cell_type": "markdown",
   "id": "6abb29ac",
   "metadata": {},
   "source": [
    "**1**.Lojas abertas durante o feriado de Natal deveriam vender mais.\n",
    "\n",
    "**2**.Lojas deveriam vender mais ao longo dos anos.\n",
    "\n",
    "**3**.Lojas deveriam vender mais no segundo semestre do ano.\n",
    "\n",
    "**4**.Lojas deveriam vender mais depois do dia 10 de cada mês.\n",
    "\n",
    "**5**.Lojas deveriam vender menos aos finais de semana.\n",
    "\n",
    "**6**.Lojas deveriam vender menos durante os feriados escolares."
   ]
  },
  {
   "cell_type": "markdown",
   "id": "932ae022",
   "metadata": {},
   "source": [
    "### 2.3. Final List Hypothesis"
   ]
  },
  {
   "cell_type": "markdown",
   "id": "542eefd8",
   "metadata": {},
   "source": [
    "**1**.Lojas com maior sortimentos deveriam vender mais.\n",
    "\n",
    "**2**.Lojas com competidores mais próximos deveriam vender menos.\n",
    "\n",
    "**3**.Lojas com competidores à mais tempo deveriam vendem mais.\n",
    "\n",
    "**4**.Lojas com promoções ativas por mais tempo deveriam vender mais.\n",
    "\n",
    "**5**.Lojas com mais dias de promoção deveriam vender mais.\n",
    "\n",
    "**6**.Lojas com mais promoções consecutivas deveriam vender mais.\n",
    "\n",
    "**7**.Lojas abertas durante o feriado de Natal deveriam vender mais.\n",
    "\n",
    "**8**.Lojas deveriam vender mais ao longo dos anos.\n",
    "\n",
    "**9**.Lojas deveriam vender mais no segundo semestre do ano.\n",
    "\n",
    "**10**.Lojas deveriam vender mais depois do dia 10 de cada mês.\n",
    "\n",
    "**11**.Lojas deveriam vender menos aos finais de semana.\n",
    "\n",
    "**12**.Lojas deveriam vender menos durante os feriados escolares."
   ]
  }
 ],
 "metadata": {
  "hide_input": false,
  "kernelspec": {
   "display_name": "Python 3 (ipykernel)",
   "language": "python",
   "name": "python3"
  },
  "language_info": {
   "codemirror_mode": {
    "name": "ipython",
    "version": 3
   },
   "file_extension": ".py",
   "mimetype": "text/x-python",
   "name": "python",
   "nbconvert_exporter": "python",
   "pygments_lexer": "ipython3",
   "version": "3.9.10"
  },
  "toc": {
   "base_numbering": 1,
   "nav_menu": {},
   "number_sections": true,
   "sideBar": true,
   "skip_h1_title": false,
   "title_cell": "Table of Contents",
   "title_sidebar": "Contents",
   "toc_cell": false,
   "toc_position": {},
   "toc_section_display": true,
   "toc_window_display": false
  }
 },
 "nbformat": 4,
 "nbformat_minor": 5
}
