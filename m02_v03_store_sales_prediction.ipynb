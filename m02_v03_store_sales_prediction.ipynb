{
 "cells": [
  {
   "cell_type": "markdown",
   "id": "57f2688e",
   "metadata": {},
   "source": [
    "# 0.0. Imports"
   ]
  },
  {
   "cell_type": "code",
   "execution_count": 103,
   "id": "0bcd8368",
   "metadata": {
    "ExecuteTime": {
     "end_time": "2021-10-27T12:38:35.292011Z",
     "start_time": "2021-10-27T12:38:35.285029Z"
    }
   },
   "outputs": [],
   "source": [
    "import math\n",
    "import numpy as np\n",
    "import pandas as pd\n",
    "import inflection\n",
    "\n",
    "import seaborn as sns\n",
    "\n",
    "from numpy import int64\n",
    "from matplotlib import pyplot as plt\n",
    "from IPython.core.display import HTML"
   ]
  },
  {
   "cell_type": "markdown",
   "id": "267ca0c6",
   "metadata": {},
   "source": [
    "## 0.1. Helper Functions "
   ]
  },
  {
   "cell_type": "code",
   "execution_count": 139,
   "id": "928b09bb",
   "metadata": {
    "ExecuteTime": {
     "end_time": "2021-10-28T12:11:39.606281Z",
     "start_time": "2021-10-28T12:11:39.593315Z"
    }
   },
   "outputs": [],
   "source": [
    "def jupyter_settings():\n",
    "    %matplotlib inline\n",
    "    %pylab inline\n",
    "    \n",
    "    plt.style.use('bmh')\n",
    "    plt.rcParams['figure.figsize'] = [20, 12]\n",
    "    plt.rcParams['font.size'] = 25\n",
    "#    \n",
    "#    display(HTML( '<style>.container {width:100% !important;}</style>'))\n",
    "#    pd.options.display.max_columns = None\n",
    "#    pd.options.display.max_rows = None\n",
    "#    pd.set_option('display.expand_frame_repr', False)\n",
    "            \n",
    "    sns.set() "
   ]
  },
  {
   "cell_type": "code",
   "execution_count": 140,
   "id": "6d1eb951",
   "metadata": {
    "ExecuteTime": {
     "end_time": "2021-10-28T12:11:40.941305Z",
     "start_time": "2021-10-28T12:11:40.930333Z"
    }
   },
   "outputs": [
    {
     "name": "stdout",
     "output_type": "stream",
     "text": [
      "Populating the interactive namespace from numpy and matplotlib\n"
     ]
    }
   ],
   "source": [
    "jupyter_settings ()"
   ]
  },
  {
   "cell_type": "markdown",
   "id": "db5fb6e9",
   "metadata": {},
   "source": [
    "## 0.2. Loading Data"
   ]
  },
  {
   "cell_type": "markdown",
   "id": "714460e2",
   "metadata": {},
   "source": [
    "# 1.0. Descrição dos Dados"
   ]
  },
  {
   "cell_type": "code",
   "execution_count": 2,
   "id": "a384f46a",
   "metadata": {
    "ExecuteTime": {
     "end_time": "2021-10-27T10:59:57.818517Z",
     "start_time": "2021-10-27T10:59:56.131997Z"
    }
   },
   "outputs": [],
   "source": [
    "df_sales_raw = pd.read_csv ('data/train.csv', low_memory = False)\n",
    "df_store_raw = pd.read_csv ('data/store.csv', low_memory = False)\n",
    "\n",
    "#merge\n",
    "df_raw = pd.merge (df_sales_raw, df_store_raw, how='left', on='Store')"
   ]
  },
  {
   "cell_type": "code",
   "execution_count": 3,
   "id": "6b993479",
   "metadata": {
    "ExecuteTime": {
     "end_time": "2021-10-27T10:59:58.198329Z",
     "start_time": "2021-10-27T10:59:57.822335Z"
    }
   },
   "outputs": [],
   "source": [
    "df1 = df_raw.copy()"
   ]
  },
  {
   "cell_type": "markdown",
   "id": "d01d6da5",
   "metadata": {
    "heading_collapsed": true
   },
   "source": [
    "## 1.1. Rename Columns"
   ]
  },
  {
   "cell_type": "code",
   "execution_count": 4,
   "id": "9b34f45a",
   "metadata": {
    "ExecuteTime": {
     "end_time": "2021-10-27T10:59:58.209303Z",
     "start_time": "2021-10-27T10:59:58.200323Z"
    },
    "hidden": true
   },
   "outputs": [],
   "source": [
    "cols_old = ['Store', 'DayOfWeek', 'Date', 'Sales', 'Customers', 'Open', 'Promo','StateHoliday', 'SchoolHoliday',\n",
    "            'StoreType', 'Assortment', 'CompetitionDistance', 'CompetitionOpenSinceMonth','CompetitionOpenSinceYear',\n",
    "            'Promo2', 'Promo2SinceWeek','Promo2SinceYear', 'PromoInterval']\n",
    "\n",
    "snakecase = lambda x: inflection.underscore(x)\n",
    "cols_new = list(map(snakecase, cols_old))\n",
    "\n",
    "#rename\n",
    "df1.columns = cols_new"
   ]
  },
  {
   "cell_type": "markdown",
   "id": "357f868c",
   "metadata": {
    "heading_collapsed": true
   },
   "source": [
    "## 1.2. Data Dimensions"
   ]
  },
  {
   "cell_type": "code",
   "execution_count": 5,
   "id": "558b395d",
   "metadata": {
    "ExecuteTime": {
     "end_time": "2021-10-27T10:59:58.226257Z",
     "start_time": "2021-10-27T10:59:58.213289Z"
    },
    "hidden": true
   },
   "outputs": [
    {
     "name": "stdout",
     "output_type": "stream",
     "text": [
      "Number of Rows 1017209\n",
      "Number od Columns 18\n"
     ]
    }
   ],
   "source": [
    "print('Number of Rows {}'.format(df1.shape[0]))\n",
    "print('Number od Columns {}'.format(df1.shape[1]))"
   ]
  },
  {
   "cell_type": "markdown",
   "id": "dce4a681",
   "metadata": {
    "heading_collapsed": true
   },
   "source": [
    "## 1.3. Data Types"
   ]
  },
  {
   "cell_type": "code",
   "execution_count": 6,
   "id": "742bfb00",
   "metadata": {
    "ExecuteTime": {
     "end_time": "2021-10-27T10:59:58.434697Z",
     "start_time": "2021-10-27T10:59:58.230245Z"
    },
    "hidden": true
   },
   "outputs": [
    {
     "data": {
      "text/plain": [
       "store                                    int64\n",
       "day_of_week                              int64\n",
       "date                            datetime64[ns]\n",
       "sales                                    int64\n",
       "customers                                int64\n",
       "open                                     int64\n",
       "promo                                    int64\n",
       "state_holiday                           object\n",
       "school_holiday                           int64\n",
       "store_type                              object\n",
       "assortment                              object\n",
       "competition_distance                   float64\n",
       "competition_open_since_month           float64\n",
       "competition_open_since_year            float64\n",
       "promo2                                   int64\n",
       "promo2_since_week                      float64\n",
       "promo2_since_year                      float64\n",
       "promo_interval                          object\n",
       "dtype: object"
      ]
     },
     "execution_count": 6,
     "metadata": {},
     "output_type": "execute_result"
    }
   ],
   "source": [
    "df1['date'] = pd.to_datetime(df1['date'])\n",
    "df1.dtypes"
   ]
  },
  {
   "cell_type": "markdown",
   "id": "46593fac",
   "metadata": {
    "heading_collapsed": true
   },
   "source": [
    "## 1.4. Check NA"
   ]
  },
  {
   "cell_type": "code",
   "execution_count": 7,
   "id": "ab035ba5",
   "metadata": {
    "ExecuteTime": {
     "end_time": "2021-10-27T10:59:58.688020Z",
     "start_time": "2021-10-27T10:59:58.437689Z"
    },
    "hidden": true
   },
   "outputs": [
    {
     "data": {
      "text/plain": [
       "store                                0\n",
       "day_of_week                          0\n",
       "date                                 0\n",
       "sales                                0\n",
       "customers                            0\n",
       "open                                 0\n",
       "promo                                0\n",
       "state_holiday                        0\n",
       "school_holiday                       0\n",
       "store_type                           0\n",
       "assortment                           0\n",
       "competition_distance              2642\n",
       "competition_open_since_month    323348\n",
       "competition_open_since_year     323348\n",
       "promo2                               0\n",
       "promo2_since_week               508031\n",
       "promo2_since_year               508031\n",
       "promo_interval                  508031\n",
       "dtype: int64"
      ]
     },
     "execution_count": 7,
     "metadata": {},
     "output_type": "execute_result"
    }
   ],
   "source": [
    "df1.isna().sum()"
   ]
  },
  {
   "cell_type": "markdown",
   "id": "b326cb7a",
   "metadata": {
    "heading_collapsed": true
   },
   "source": [
    "## 1.5. Fillout NA"
   ]
  },
  {
   "cell_type": "code",
   "execution_count": 8,
   "id": "f33bc8ea",
   "metadata": {
    "ExecuteTime": {
     "end_time": "2021-10-27T11:01:26.964142Z",
     "start_time": "2021-10-27T10:59:58.691011Z"
    },
    "hidden": true
   },
   "outputs": [],
   "source": [
    "#competition_distance \n",
    "df1['competition_distance'] = df1['competition_distance'].apply(lambda x: 2000000.0 if math.isnan (x) else (x))\n",
    "\n",
    "#competition_open_since_month  \n",
    "df1['competition_open_since_month'] = df1.apply(lambda x: x['date'].month if math.isnan(x['competition_open_since_month']) else x['competition_open_since_month'], axis=1)\n",
    "\n",
    "#competition_open_since_year    \n",
    "df1['competition_open_since_year'] = df1.apply(lambda x: x['date'].year if math.isnan(x['competition_open_since_year']) else x['competition_open_since_year'], axis=1 )\n",
    "\n",
    "#promo2_since_week              \n",
    "df1['promo2_since_week'] = df1.apply(lambda x: x['date'].week if math.isnan(x['promo2_since_week']) else x['promo2_since_week'], axis=1 )\n",
    "\n",
    "#promo2_since_year \n",
    "df1['promo2_since_year'] = df1.apply(lambda x: x['date'].year if math.isnan(x['promo2_since_year']) else x['promo2_since_year'], axis=1 )\n",
    "\n",
    "#promo_interval\n",
    "month_map = {1:'Jan', 2:'Feb', 3:'Mar', 4:'Apr', 5:'May', 6:'Jun', 7:'Jul', 8:'Aug', 9:'Sep', 10:'Oct', 11:'Nov', 12:'Dec'}\n",
    "df1['promo_interval'].fillna(0, inplace=True)\n",
    "df1['month_map'] = df1['date'].dt.month.map(month_map)\n",
    "df1['is_promo'] = df1[['promo_interval', 'month_map' ]].apply(lambda x: 0 if x['promo_interval'] == 0 else 1 if x['month_map'] in x['promo_interval'].split( ',') else 0, axis=1)\n"
   ]
  },
  {
   "cell_type": "markdown",
   "id": "3f9e59df",
   "metadata": {},
   "source": [
    "## 1.6. Change Types"
   ]
  },
  {
   "cell_type": "code",
   "execution_count": 31,
   "id": "c7913fa1",
   "metadata": {
    "ExecuteTime": {
     "end_time": "2021-10-27T11:13:59.832358Z",
     "start_time": "2021-10-27T11:13:59.743594Z"
    }
   },
   "outputs": [],
   "source": [
    "df1['competition_open_since_month'] = df1['competition_open_since_month'].astype(int64)\n",
    "df1['competition_open_since_year'] = df1['competition_open_since_year'].astype(int64)\n",
    "df1['promo2_since_week'] = df1['promo2_since_week'].astype(int64)\n",
    "df1['promo2_since_year'] = df1['promo2_since_year'].astype(int64)"
   ]
  },
  {
   "cell_type": "markdown",
   "id": "c235681d",
   "metadata": {},
   "source": [
    "## 1.7. Descriptive Statistical"
   ]
  },
  {
   "cell_type": "code",
   "execution_count": 39,
   "id": "0837cf02",
   "metadata": {
    "ExecuteTime": {
     "end_time": "2021-10-27T11:34:19.305255Z",
     "start_time": "2021-10-27T11:34:19.128737Z"
    }
   },
   "outputs": [],
   "source": [
    "num_attributes = df1.select_dtypes(include=['int64', 'float64'])\n",
    "cat_attributes = df1.select_dtypes(exclude=['int64', 'float64','datetime64[ns]'])"
   ]
  },
  {
   "cell_type": "markdown",
   "id": "cc99f0a2",
   "metadata": {},
   "source": [
    "### 1.7.1 Numerical Attributes"
   ]
  },
  {
   "cell_type": "code",
   "execution_count": 69,
   "id": "6928e635",
   "metadata": {
    "ExecuteTime": {
     "end_time": "2021-10-27T11:58:32.300293Z",
     "start_time": "2021-10-27T11:58:27.424160Z"
    }
   },
   "outputs": [
    {
     "data": {
      "text/html": [
       "<div>\n",
       "<style scoped>\n",
       "    .dataframe tbody tr th:only-of-type {\n",
       "        vertical-align: middle;\n",
       "    }\n",
       "\n",
       "    .dataframe tbody tr th {\n",
       "        vertical-align: top;\n",
       "    }\n",
       "\n",
       "    .dataframe thead th {\n",
       "        text-align: right;\n",
       "    }\n",
       "</style>\n",
       "<table border=\"1\" class=\"dataframe\">\n",
       "  <thead>\n",
       "    <tr style=\"text-align: right;\">\n",
       "      <th></th>\n",
       "      <th>attributes</th>\n",
       "      <th>min</th>\n",
       "      <th>max</th>\n",
       "      <th>range</th>\n",
       "      <th>mean</th>\n",
       "      <th>median</th>\n",
       "      <th>std</th>\n",
       "      <th>skew</th>\n",
       "      <th>kurtosis</th>\n",
       "    </tr>\n",
       "  </thead>\n",
       "  <tbody>\n",
       "    <tr>\n",
       "      <th>0</th>\n",
       "      <td>store</td>\n",
       "      <td>1.0</td>\n",
       "      <td>1115.0</td>\n",
       "      <td>1114.0</td>\n",
       "      <td>558.429727</td>\n",
       "      <td>558.0</td>\n",
       "      <td>321.908493</td>\n",
       "      <td>-0.000955</td>\n",
       "      <td>-1.200524</td>\n",
       "    </tr>\n",
       "    <tr>\n",
       "      <th>1</th>\n",
       "      <td>day_of_week</td>\n",
       "      <td>1.0</td>\n",
       "      <td>7.0</td>\n",
       "      <td>6.0</td>\n",
       "      <td>3.998341</td>\n",
       "      <td>4.0</td>\n",
       "      <td>1.997390</td>\n",
       "      <td>0.001593</td>\n",
       "      <td>-1.246873</td>\n",
       "    </tr>\n",
       "    <tr>\n",
       "      <th>2</th>\n",
       "      <td>sales</td>\n",
       "      <td>0.0</td>\n",
       "      <td>41551.0</td>\n",
       "      <td>41551.0</td>\n",
       "      <td>5773.818972</td>\n",
       "      <td>5744.0</td>\n",
       "      <td>3849.924283</td>\n",
       "      <td>0.641460</td>\n",
       "      <td>1.778375</td>\n",
       "    </tr>\n",
       "    <tr>\n",
       "      <th>3</th>\n",
       "      <td>customers</td>\n",
       "      <td>0.0</td>\n",
       "      <td>7388.0</td>\n",
       "      <td>7388.0</td>\n",
       "      <td>633.145946</td>\n",
       "      <td>609.0</td>\n",
       "      <td>464.411506</td>\n",
       "      <td>1.598650</td>\n",
       "      <td>7.091773</td>\n",
       "    </tr>\n",
       "    <tr>\n",
       "      <th>4</th>\n",
       "      <td>open</td>\n",
       "      <td>0.0</td>\n",
       "      <td>1.0</td>\n",
       "      <td>1.0</td>\n",
       "      <td>0.830107</td>\n",
       "      <td>1.0</td>\n",
       "      <td>0.375539</td>\n",
       "      <td>-1.758045</td>\n",
       "      <td>1.090723</td>\n",
       "    </tr>\n",
       "    <tr>\n",
       "      <th>5</th>\n",
       "      <td>promo</td>\n",
       "      <td>0.0</td>\n",
       "      <td>1.0</td>\n",
       "      <td>1.0</td>\n",
       "      <td>0.381515</td>\n",
       "      <td>0.0</td>\n",
       "      <td>0.485758</td>\n",
       "      <td>0.487838</td>\n",
       "      <td>-1.762018</td>\n",
       "    </tr>\n",
       "    <tr>\n",
       "      <th>6</th>\n",
       "      <td>school_holiday</td>\n",
       "      <td>0.0</td>\n",
       "      <td>1.0</td>\n",
       "      <td>1.0</td>\n",
       "      <td>0.178647</td>\n",
       "      <td>0.0</td>\n",
       "      <td>0.383056</td>\n",
       "      <td>1.677842</td>\n",
       "      <td>0.815154</td>\n",
       "    </tr>\n",
       "    <tr>\n",
       "      <th>7</th>\n",
       "      <td>competition_distance</td>\n",
       "      <td>20.0</td>\n",
       "      <td>2000000.0</td>\n",
       "      <td>1999980.0</td>\n",
       "      <td>10610.588099</td>\n",
       "      <td>2330.0</td>\n",
       "      <td>101810.649100</td>\n",
       "      <td>19.378002</td>\n",
       "      <td>375.644405</td>\n",
       "    </tr>\n",
       "    <tr>\n",
       "      <th>8</th>\n",
       "      <td>competition_open_since_month</td>\n",
       "      <td>1.0</td>\n",
       "      <td>12.0</td>\n",
       "      <td>11.0</td>\n",
       "      <td>6.786849</td>\n",
       "      <td>7.0</td>\n",
       "      <td>3.311085</td>\n",
       "      <td>-0.042076</td>\n",
       "      <td>-1.232607</td>\n",
       "    </tr>\n",
       "    <tr>\n",
       "      <th>9</th>\n",
       "      <td>competition_open_since_year</td>\n",
       "      <td>1900.0</td>\n",
       "      <td>2015.0</td>\n",
       "      <td>115.0</td>\n",
       "      <td>2010.324840</td>\n",
       "      <td>2012.0</td>\n",
       "      <td>5.515591</td>\n",
       "      <td>-7.235657</td>\n",
       "      <td>124.071304</td>\n",
       "    </tr>\n",
       "    <tr>\n",
       "      <th>10</th>\n",
       "      <td>promo2</td>\n",
       "      <td>0.0</td>\n",
       "      <td>1.0</td>\n",
       "      <td>1.0</td>\n",
       "      <td>0.500564</td>\n",
       "      <td>1.0</td>\n",
       "      <td>0.500000</td>\n",
       "      <td>-0.002255</td>\n",
       "      <td>-1.999999</td>\n",
       "    </tr>\n",
       "    <tr>\n",
       "      <th>11</th>\n",
       "      <td>promo2_since_week</td>\n",
       "      <td>1.0</td>\n",
       "      <td>52.0</td>\n",
       "      <td>51.0</td>\n",
       "      <td>23.619033</td>\n",
       "      <td>22.0</td>\n",
       "      <td>14.310057</td>\n",
       "      <td>0.178723</td>\n",
       "      <td>-1.184046</td>\n",
       "    </tr>\n",
       "    <tr>\n",
       "      <th>12</th>\n",
       "      <td>promo2_since_year</td>\n",
       "      <td>2009.0</td>\n",
       "      <td>2015.0</td>\n",
       "      <td>6.0</td>\n",
       "      <td>2012.793297</td>\n",
       "      <td>2013.0</td>\n",
       "      <td>1.662657</td>\n",
       "      <td>-0.784436</td>\n",
       "      <td>-0.210075</td>\n",
       "    </tr>\n",
       "    <tr>\n",
       "      <th>13</th>\n",
       "      <td>is_promo</td>\n",
       "      <td>0.0</td>\n",
       "      <td>1.0</td>\n",
       "      <td>1.0</td>\n",
       "      <td>0.165966</td>\n",
       "      <td>0.0</td>\n",
       "      <td>0.372050</td>\n",
       "      <td>1.795644</td>\n",
       "      <td>1.224338</td>\n",
       "    </tr>\n",
       "  </tbody>\n",
       "</table>\n",
       "</div>"
      ],
      "text/plain": [
       "                      attributes     min        max      range          mean  \\\n",
       "0                          store     1.0     1115.0     1114.0    558.429727   \n",
       "1                    day_of_week     1.0        7.0        6.0      3.998341   \n",
       "2                          sales     0.0    41551.0    41551.0   5773.818972   \n",
       "3                      customers     0.0     7388.0     7388.0    633.145946   \n",
       "4                           open     0.0        1.0        1.0      0.830107   \n",
       "5                          promo     0.0        1.0        1.0      0.381515   \n",
       "6                 school_holiday     0.0        1.0        1.0      0.178647   \n",
       "7           competition_distance    20.0  2000000.0  1999980.0  10610.588099   \n",
       "8   competition_open_since_month     1.0       12.0       11.0      6.786849   \n",
       "9    competition_open_since_year  1900.0     2015.0      115.0   2010.324840   \n",
       "10                        promo2     0.0        1.0        1.0      0.500564   \n",
       "11             promo2_since_week     1.0       52.0       51.0     23.619033   \n",
       "12             promo2_since_year  2009.0     2015.0        6.0   2012.793297   \n",
       "13                      is_promo     0.0        1.0        1.0      0.165966   \n",
       "\n",
       "    median            std       skew    kurtosis  \n",
       "0    558.0     321.908493  -0.000955   -1.200524  \n",
       "1      4.0       1.997390   0.001593   -1.246873  \n",
       "2   5744.0    3849.924283   0.641460    1.778375  \n",
       "3    609.0     464.411506   1.598650    7.091773  \n",
       "4      1.0       0.375539  -1.758045    1.090723  \n",
       "5      0.0       0.485758   0.487838   -1.762018  \n",
       "6      0.0       0.383056   1.677842    0.815154  \n",
       "7   2330.0  101810.649100  19.378002  375.644405  \n",
       "8      7.0       3.311085  -0.042076   -1.232607  \n",
       "9   2012.0       5.515591  -7.235657  124.071304  \n",
       "10     1.0       0.500000  -0.002255   -1.999999  \n",
       "11    22.0      14.310057   0.178723   -1.184046  \n",
       "12  2013.0       1.662657  -0.784436   -0.210075  \n",
       "13     0.0       0.372050   1.795644    1.224338  "
      ]
     },
     "execution_count": 69,
     "metadata": {},
     "output_type": "execute_result"
    }
   ],
   "source": [
    "# central tendency - mean, median\n",
    "ct1 = pd.DataFrame(num_attributes.apply(np.mean)).T\n",
    "ct2 = pd.DataFrame(num_attributes.apply(np.median)).T\n",
    "\n",
    "# dispersion - std, min, max, range, skew, Kurtosis\n",
    "d1 = pd.DataFrame(num_attributes.apply(np.std)).T\n",
    "d2 = pd.DataFrame(num_attributes.apply(min)).T\n",
    "d3 = pd.DataFrame(num_attributes.apply(max)).T\n",
    "d4 = pd.DataFrame(num_attributes.apply(lambda x: x.max() - x.min())).T\n",
    "d5 = pd.DataFrame(num_attributes.apply(lambda x: x.skew())).T\n",
    "d6 = pd.DataFrame(num_attributes.apply(lambda x: x.kurtosis())).T\n",
    "\n",
    "#concatenate\n",
    "m = pd.concat([d2, d3, d4, ct1, ct2, d1, d5, d6]).T.reset_index()\n",
    "m.columns = ['attributes', 'min', 'max', 'range', 'mean', 'median', 'std', 'skew', 'kurtosis']\n",
    "m"
   ]
  },
  {
   "cell_type": "code",
   "execution_count": 141,
   "id": "27f8bc74",
   "metadata": {
    "ExecuteTime": {
     "end_time": "2021-10-28T12:11:58.808360Z",
     "start_time": "2021-10-28T12:11:45.890313Z"
    }
   },
   "outputs": [
    {
     "data": {
      "image/png": "[encoded data removed]",
      "text/plain": [
       "<Figure size 1440x864 with 1 Axes>"
      ]
     },
     "metadata": {},
     "output_type": "display_data"
    }
   ],
   "source": [
    "sns.kdeplot(df1['sales']);"
   ]
  },
  {
   "cell_type": "markdown",
   "id": "c3427405",
   "metadata": {},
   "source": [
    "### 1.7.2 Categorical Attributes"
   ]
  },
  {
   "cell_type": "code",
   "execution_count": 70,
   "id": "c90f3bdc",
   "metadata": {
    "ExecuteTime": {
     "end_time": "2021-10-27T12:06:54.467871Z",
     "start_time": "2021-10-27T12:06:54.134671Z"
    }
   },
   "outputs": [
    {
     "data": {
      "text/plain": [
       "state_holiday      4\n",
       "store_type         4\n",
       "assortment         3\n",
       "promo_interval     4\n",
       "month_map         12\n",
       "dtype: int64"
      ]
     },
     "execution_count": 70,
     "metadata": {},
     "output_type": "execute_result"
    }
   ],
   "source": [
    "cat_attributes.apply(lambda x: x.unique().shape[0] )"
   ]
  },
  {
   "cell_type": "code",
   "execution_count": 146,
   "id": "674b9afc",
   "metadata": {
    "ExecuteTime": {
     "end_time": "2021-10-28T12:18:07.717225Z",
     "start_time": "2021-10-28T12:18:05.404936Z"
    }
   },
   "outputs": [
    {
     "data": {
      "image/png": "[encoded data removed]",
      "text/plain": [
       "<Figure size 1440x864 with 3 Axes>"
      ]
     },
     "metadata": {},
     "output_type": "display_data"
    }
   ],
   "source": [
    "aux1 = df1[(df1['state_holiday'] != '0') & (df1['sales'] > 0)]\n",
    "aux2 = df1[df1['sales'] > 0]\n",
    "\n",
    "plt.subplot(131)\n",
    "sns.boxplot(x='state_holiday', y='sales', data=aux1);\n",
    "\n",
    "plt.subplot(132)\n",
    "sns.boxplot(x='store_type', y='sales', data=aux2);\n",
    "\n",
    "plt.subplot(133)\n",
    "sns.boxplot(x='assortment', y='sales', data=aux2);"
   ]
  },
  {
   "cell_type": "code",
   "execution_count": null,
   "id": "72207653",
   "metadata": {},
   "outputs": [],
   "source": []
  }
 ],
 "metadata": {
  "hide_input": false,
  "kernelspec": {
   "display_name": "Python 3 (ipykernel)",
   "language": "python",
   "name": "python3"
  },
  "language_info": {
   "codemirror_mode": {
    "name": "ipython",
    "version": 3
   },
   "file_extension": ".py",
   "mimetype": "text/x-python",
   "name": "python",
   "nbconvert_exporter": "python",
   "pygments_lexer": "ipython3",
   "version": "3.8.8"
  }
 },
 "nbformat": 4,
 "nbformat_minor": 5
}
